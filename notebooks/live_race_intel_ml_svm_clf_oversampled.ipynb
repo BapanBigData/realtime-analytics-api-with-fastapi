{
 "cells": [
  {
   "cell_type": "code",
   "execution_count": 1,
   "id": "b3825e5d",
   "metadata": {},
   "outputs": [],
   "source": [
    "\n",
    "# required imports\n",
    "import numpy as np\n",
    "import pandas as pd\n",
    "import matplotlib.pyplot as plt\n",
    "import seaborn as sns\n",
    "from sklearn.model_selection import train_test_split, cross_val_score\n",
    "from sklearn.pipeline import Pipeline\n",
    "from sklearn.compose import ColumnTransformer\n",
    "from sklearn.preprocessing import StandardScaler\n",
    "from sklearn.metrics import classification_report, roc_auc_score, roc_curve\n",
    "from sklearn.svm import SVC\n",
    "from imblearn.over_sampling import SMOTE\n",
    "\n",
    "%matplotlib inline"
   ]
  },
  {
   "cell_type": "markdown",
   "id": "c69b3e95",
   "metadata": {},
   "source": [
    "#### **Data Overview:**"
   ]
  },
  {
   "cell_type": "code",
   "execution_count": 2,
   "id": "2a778559",
   "metadata": {},
   "outputs": [],
   "source": [
    "df = pd.read_parquet(\"../features/training_set\")\n",
    "df = df.sample(frac=1.0, random_state=47).reset_index(drop=True)"
   ]
  },
  {
   "cell_type": "code",
   "execution_count": 3,
   "id": "f07a7599",
   "metadata": {},
   "outputs": [
    {
     "data": {
      "text/plain": [
       "(103663, 16)"
      ]
     },
     "execution_count": 3,
     "metadata": {},
     "output_type": "execute_result"
    }
   ],
   "source": [
    "df.shape"
   ]
  },
  {
   "cell_type": "code",
   "execution_count": 4,
   "id": "d4ce747a",
   "metadata": {},
   "outputs": [
    {
     "data": {
      "text/html": [
       "<div>\n",
       "<style scoped>\n",
       "    .dataframe tbody tr th:only-of-type {\n",
       "        vertical-align: middle;\n",
       "    }\n",
       "\n",
       "    .dataframe tbody tr th {\n",
       "        vertical-align: top;\n",
       "    }\n",
       "\n",
       "    .dataframe thead th {\n",
       "        text-align: right;\n",
       "    }\n",
       "</style>\n",
       "<table border=\"1\" class=\"dataframe\">\n",
       "  <thead>\n",
       "    <tr style=\"text-align: right;\">\n",
       "      <th></th>\n",
       "      <th>race_year</th>\n",
       "      <th>race_name</th>\n",
       "      <th>driver_id</th>\n",
       "      <th>driver_nationality</th>\n",
       "      <th>team</th>\n",
       "      <th>lap_percent</th>\n",
       "      <th>position_gain</th>\n",
       "      <th>pit_stop_rate</th>\n",
       "      <th>rolling_avg_lap_time_3</th>\n",
       "      <th>lap_time_cv_3</th>\n",
       "      <th>qualifying_avg_sec</th>\n",
       "      <th>qualifying_delta</th>\n",
       "      <th>points</th>\n",
       "      <th>rolling_fatigue_score</th>\n",
       "      <th>position_change_rate_3</th>\n",
       "      <th>is_pole_position</th>\n",
       "    </tr>\n",
       "  </thead>\n",
       "  <tbody>\n",
       "    <tr>\n",
       "      <th>0</th>\n",
       "      <td>2020</td>\n",
       "      <td>Styrian Grand Prix</td>\n",
       "      <td>830</td>\n",
       "      <td>Dutch</td>\n",
       "      <td>Red Bull</td>\n",
       "      <td>0.239437</td>\n",
       "      <td>0</td>\n",
       "      <td>8.352938</td>\n",
       "      <td>68.859998</td>\n",
       "      <td>0.000367</td>\n",
       "      <td>78.907997</td>\n",
       "      <td>2.550995</td>\n",
       "      <td>15.0</td>\n",
       "      <td>-6.267836</td>\n",
       "      <td>0</td>\n",
       "      <td>True</td>\n",
       "    </tr>\n",
       "    <tr>\n",
       "      <th>1</th>\n",
       "      <td>2020</td>\n",
       "      <td>Portuguese Grand Prix</td>\n",
       "      <td>817</td>\n",
       "      <td>Australian</td>\n",
       "      <td>Renault</td>\n",
       "      <td>0.569231</td>\n",
       "      <td>3</td>\n",
       "      <td>1.756756</td>\n",
       "      <td>83.161001</td>\n",
       "      <td>0.012472</td>\n",
       "      <td>77.550999</td>\n",
       "      <td>0.139999</td>\n",
       "      <td>2.0</td>\n",
       "      <td>-1.577974</td>\n",
       "      <td>1</td>\n",
       "      <td>False</td>\n",
       "    </tr>\n",
       "    <tr>\n",
       "      <th>2</th>\n",
       "      <td>2018</td>\n",
       "      <td>Mexican Grand Prix</td>\n",
       "      <td>20</td>\n",
       "      <td>German</td>\n",
       "      <td>Ferrari</td>\n",
       "      <td>0.971831</td>\n",
       "      <td>2</td>\n",
       "      <td>2.057971</td>\n",
       "      <td>80.057999</td>\n",
       "      <td>0.001082</td>\n",
       "      <td>75.591332</td>\n",
       "      <td>1.119003</td>\n",
       "      <td>18.0</td>\n",
       "      <td>-3.564775</td>\n",
       "      <td>0</td>\n",
       "      <td>True</td>\n",
       "    </tr>\n",
       "    <tr>\n",
       "      <th>3</th>\n",
       "      <td>2018</td>\n",
       "      <td>United States Grand Prix</td>\n",
       "      <td>843</td>\n",
       "      <td>New Zealander</td>\n",
       "      <td>Toro Rosso</td>\n",
       "      <td>0.327273</td>\n",
       "      <td>9</td>\n",
       "      <td>3.055555</td>\n",
       "      <td>102.529335</td>\n",
       "      <td>0.001676</td>\n",
       "      <td>95.205992</td>\n",
       "      <td>0.000000</td>\n",
       "      <td>2.0</td>\n",
       "      <td>-3.754922</td>\n",
       "      <td>0</td>\n",
       "      <td>False</td>\n",
       "    </tr>\n",
       "    <tr>\n",
       "      <th>4</th>\n",
       "      <td>2013</td>\n",
       "      <td>Chinese Grand Prix</td>\n",
       "      <td>8</td>\n",
       "      <td>Finnish</td>\n",
       "      <td>Lotus F1</td>\n",
       "      <td>0.964286</td>\n",
       "      <td>0</td>\n",
       "      <td>3.111111</td>\n",
       "      <td>100.174665</td>\n",
       "      <td>0.001467</td>\n",
       "      <td>95.821998</td>\n",
       "      <td>2.285004</td>\n",
       "      <td>18.0</td>\n",
       "      <td>-3.485187</td>\n",
       "      <td>1</td>\n",
       "      <td>True</td>\n",
       "    </tr>\n",
       "  </tbody>\n",
       "</table>\n",
       "</div>"
      ],
      "text/plain": [
       "   race_year                 race_name  driver_id driver_nationality  \\\n",
       "0       2020        Styrian Grand Prix        830              Dutch   \n",
       "1       2020     Portuguese Grand Prix        817         Australian   \n",
       "2       2018        Mexican Grand Prix         20             German   \n",
       "3       2018  United States Grand Prix        843      New Zealander   \n",
       "4       2013        Chinese Grand Prix          8            Finnish   \n",
       "\n",
       "         team  lap_percent  position_gain  pit_stop_rate  \\\n",
       "0    Red Bull     0.239437              0       8.352938   \n",
       "1     Renault     0.569231              3       1.756756   \n",
       "2     Ferrari     0.971831              2       2.057971   \n",
       "3  Toro Rosso     0.327273              9       3.055555   \n",
       "4    Lotus F1     0.964286              0       3.111111   \n",
       "\n",
       "   rolling_avg_lap_time_3  lap_time_cv_3  qualifying_avg_sec  \\\n",
       "0               68.859998       0.000367           78.907997   \n",
       "1               83.161001       0.012472           77.550999   \n",
       "2               80.057999       0.001082           75.591332   \n",
       "3              102.529335       0.001676           95.205992   \n",
       "4              100.174665       0.001467           95.821998   \n",
       "\n",
       "   qualifying_delta  points  rolling_fatigue_score  position_change_rate_3  \\\n",
       "0          2.550995    15.0              -6.267836                       0   \n",
       "1          0.139999     2.0              -1.577974                       1   \n",
       "2          1.119003    18.0              -3.564775                       0   \n",
       "3          0.000000     2.0              -3.754922                       0   \n",
       "4          2.285004    18.0              -3.485187                       1   \n",
       "\n",
       "   is_pole_position  \n",
       "0              True  \n",
       "1             False  \n",
       "2              True  \n",
       "3             False  \n",
       "4              True  "
      ]
     },
     "execution_count": 4,
     "metadata": {},
     "output_type": "execute_result"
    }
   ],
   "source": [
    "df.head()"
   ]
  },
  {
   "cell_type": "markdown",
   "id": "af5a7dd1",
   "metadata": {},
   "source": [
    "* Drop `points` because it might dominates the model's decisions, and may cause it to rely on driver history rather than real-time race dynamics, which reduces generalizability and hides the true predictive power of the live telemetry features."
   ]
  },
  {
   "cell_type": "code",
   "execution_count": 5,
   "id": "355668df",
   "metadata": {},
   "outputs": [],
   "source": [
    "df = df.drop(columns=['race_year', 'race_name', 'driver_id', 'driver_nationality', 'team', 'points'], axis=1)"
   ]
  },
  {
   "cell_type": "code",
   "execution_count": 6,
   "id": "2ff58172",
   "metadata": {},
   "outputs": [
    {
     "data": {
      "text/plain": [
       "lap_percent                 0\n",
       "position_gain               0\n",
       "pit_stop_rate               0\n",
       "rolling_avg_lap_time_3      0\n",
       "lap_time_cv_3               0\n",
       "qualifying_avg_sec          0\n",
       "qualifying_delta          511\n",
       "rolling_fatigue_score       0\n",
       "position_change_rate_3      0\n",
       "is_pole_position            0\n",
       "dtype: int64"
      ]
     },
     "execution_count": 6,
     "metadata": {},
     "output_type": "execute_result"
    }
   ],
   "source": [
    "# null counts\n",
    "df.isnull().sum()"
   ]
  },
  {
   "cell_type": "code",
   "execution_count": 7,
   "id": "6e83e248",
   "metadata": {},
   "outputs": [
    {
     "data": {
      "text/plain": [
       "np.float32(10.782005)"
      ]
     },
     "execution_count": 7,
     "metadata": {},
     "output_type": "execute_result"
    }
   ],
   "source": [
    "# 95th percentile of qualifying_delta (excluding nulls)\n",
    "qdelta_95 = np.nanpercentile(df['qualifying_delta'], 95)\n",
    "qdelta_95"
   ]
  },
  {
   "cell_type": "code",
   "execution_count": 8,
   "id": "c7fbce00",
   "metadata": {},
   "outputs": [],
   "source": [
    "df['qualifying_delta'] = df['qualifying_delta'].fillna(qdelta_95)"
   ]
  },
  {
   "cell_type": "code",
   "execution_count": 9,
   "id": "c9c1e221",
   "metadata": {},
   "outputs": [],
   "source": [
    "# change the dtype of target from bool to int\n",
    "df['is_pole_position'] = df['is_pole_position'].astype(int)"
   ]
  },
  {
   "cell_type": "markdown",
   "id": "789a46ff",
   "metadata": {},
   "source": [
    "#### **Train-Test Split:**"
   ]
  },
  {
   "cell_type": "code",
   "execution_count": 10,
   "id": "3b904055",
   "metadata": {},
   "outputs": [],
   "source": [
    "# select features to scale and features to keep as it is\n",
    "features_to_scale = [\n",
    "    'pit_stop_rate',\n",
    "    'rolling_avg_lap_time_3',\n",
    "    'lap_time_cv_3',\n",
    "    'qualifying_avg_sec',\n",
    "    'qualifying_delta',\n",
    "    'rolling_fatigue_score'\n",
    "]\n",
    "\n",
    "features_to_keep = [\n",
    "    'lap_percent',\n",
    "    'position_gain', \n",
    "    'position_change_rate_3'\n",
    "]"
   ]
  },
  {
   "cell_type": "code",
   "execution_count": 11,
   "id": "d03e3949",
   "metadata": {},
   "outputs": [],
   "source": [
    "X = df[features_to_scale + features_to_keep]\n",
    "y = df['is_pole_position']"
   ]
  },
  {
   "cell_type": "code",
   "execution_count": 12,
   "id": "07881f8a",
   "metadata": {},
   "outputs": [],
   "source": [
    "X_train, X_test, y_train, y_test = train_test_split(\n",
    "    X, y, test_size=0.33, stratify=y, random_state=47\n",
    ")"
   ]
  },
  {
   "cell_type": "code",
   "execution_count": 13,
   "id": "20de04a4",
   "metadata": {},
   "outputs": [
    {
     "data": {
      "text/plain": [
       "((69454, 9), (34209, 9), (69454,), (34209,))"
      ]
     },
     "execution_count": 13,
     "metadata": {},
     "output_type": "execute_result"
    }
   ],
   "source": [
    "X_train.shape, X_test.shape, y_train.shape, y_test.shape"
   ]
  },
  {
   "cell_type": "code",
   "execution_count": 14,
   "id": "322d2380",
   "metadata": {},
   "outputs": [
    {
     "data": {
      "text/plain": [
       "is_pole_position\n",
       "0    66.515967\n",
       "1    33.484033\n",
       "Name: proportion, dtype: float64"
      ]
     },
     "execution_count": 14,
     "metadata": {},
     "output_type": "execute_result"
    }
   ],
   "source": [
    "y_train.value_counts(normalize=True) * 100"
   ]
  },
  {
   "cell_type": "code",
   "execution_count": 15,
   "id": "c3027579",
   "metadata": {},
   "outputs": [
    {
     "data": {
      "text/plain": [
       "is_pole_position\n",
       "0    66.517583\n",
       "1    33.482417\n",
       "Name: proportion, dtype: float64"
      ]
     },
     "execution_count": 15,
     "metadata": {},
     "output_type": "execute_result"
    }
   ],
   "source": [
    "y_test.value_counts(normalize=True) * 100"
   ]
  },
  {
   "cell_type": "code",
   "execution_count": 16,
   "id": "e231796f",
   "metadata": {},
   "outputs": [
    {
     "name": "stdout",
     "output_type": "stream",
     "text": [
      "Overlapping rows: 0\n"
     ]
    }
   ],
   "source": [
    "\n",
    "# Combine and compare if rows match\n",
    "train_rows = pd.DataFrame(X_train).astype(str).apply(lambda x: ''.join(x), axis=1)\n",
    "test_rows = pd.DataFrame(X_test).astype(str).apply(lambda x: ''.join(x), axis=1)\n",
    "\n",
    "# How many overlap?\n",
    "overlap = train_rows.isin(test_rows).sum()\n",
    "print(f\"Overlapping rows: {overlap}\")"
   ]
  },
  {
   "cell_type": "markdown",
   "id": "aff84769",
   "metadata": {},
   "source": [
    "#### **SMOTE**"
   ]
  },
  {
   "cell_type": "code",
   "execution_count": 17,
   "id": "d1d1dc8c",
   "metadata": {},
   "outputs": [],
   "source": [
    "# Apply SMOTE on train set\n",
    "smote = SMOTE(random_state=47)\n",
    "X_train_smote, y_train_smote = smote.fit_resample(X_train, y_train)"
   ]
  },
  {
   "cell_type": "code",
   "execution_count": 18,
   "id": "11fcade3",
   "metadata": {},
   "outputs": [
    {
     "name": "stdout",
     "output_type": "stream",
     "text": [
      "✅ After SMOTE: (92396, 9), (92396,)\n"
     ]
    }
   ],
   "source": [
    "print(f\"✅ After SMOTE: {X_train_smote.shape}, {y_train_smote.shape}\")"
   ]
  },
  {
   "cell_type": "code",
   "execution_count": 19,
   "id": "66f3d1ed",
   "metadata": {},
   "outputs": [
    {
     "data": {
      "text/plain": [
       "is_pole_position\n",
       "1    50.0\n",
       "0    50.0\n",
       "Name: proportion, dtype: float64"
      ]
     },
     "execution_count": 19,
     "metadata": {},
     "output_type": "execute_result"
    }
   ],
   "source": [
    "y_train_smote.value_counts(normalize=True) * 100"
   ]
  },
  {
   "cell_type": "markdown",
   "id": "2e06c833",
   "metadata": {},
   "source": [
    "#### **ML Pipeline:**"
   ]
  },
  {
   "cell_type": "code",
   "execution_count": 20,
   "id": "b6777bad",
   "metadata": {},
   "outputs": [],
   "source": [
    "# ml pipeline\n",
    "preprocessor = ColumnTransformer([\n",
    "    ('scale', StandardScaler(), features_to_scale),\n",
    "    ('keep', 'passthrough', features_to_keep)\n",
    "])\n",
    "\n",
    "# SVM with RBF (Gaussian) kernel\n",
    "svm_model = SVC(\n",
    "    kernel='rbf',          # Gaussian kernel\n",
    "    C=1.0,                 # Regularization parameter (can be tuned)\n",
    "    gamma='scale',         # Kernel coefficient (can be 'scale', 'auto', or a float)\n",
    "    probability=True       # Needed if you're going to use `predict_proba` or AUC\n",
    ")"
   ]
  },
  {
   "cell_type": "code",
   "execution_count": 21,
   "id": "eba3a17c",
   "metadata": {},
   "outputs": [],
   "source": [
    "# initializing the pipeline\n",
    "pipeline = Pipeline([\n",
    "    ('preprocessor', preprocessor),\n",
    "    ('classifier', svm_model)\n",
    "])"
   ]
  },
  {
   "cell_type": "code",
   "execution_count": 22,
   "id": "c2a767e0",
   "metadata": {},
   "outputs": [
    {
     "data": {
      "text/html": [
       "<style>#sk-container-id-1 {\n",
       "  /* Definition of color scheme common for light and dark mode */\n",
       "  --sklearn-color-text: #000;\n",
       "  --sklearn-color-text-muted: #666;\n",
       "  --sklearn-color-line: gray;\n",
       "  /* Definition of color scheme for unfitted estimators */\n",
       "  --sklearn-color-unfitted-level-0: #fff5e6;\n",
       "  --sklearn-color-unfitted-level-1: #f6e4d2;\n",
       "  --sklearn-color-unfitted-level-2: #ffe0b3;\n",
       "  --sklearn-color-unfitted-level-3: chocolate;\n",
       "  /* Definition of color scheme for fitted estimators */\n",
       "  --sklearn-color-fitted-level-0: #f0f8ff;\n",
       "  --sklearn-color-fitted-level-1: #d4ebff;\n",
       "  --sklearn-color-fitted-level-2: #b3dbfd;\n",
       "  --sklearn-color-fitted-level-3: cornflowerblue;\n",
       "\n",
       "  /* Specific color for light theme */\n",
       "  --sklearn-color-text-on-default-background: var(--sg-text-color, var(--theme-code-foreground, var(--jp-content-font-color1, black)));\n",
       "  --sklearn-color-background: var(--sg-background-color, var(--theme-background, var(--jp-layout-color0, white)));\n",
       "  --sklearn-color-border-box: var(--sg-text-color, var(--theme-code-foreground, var(--jp-content-font-color1, black)));\n",
       "  --sklearn-color-icon: #696969;\n",
       "\n",
       "  @media (prefers-color-scheme: dark) {\n",
       "    /* Redefinition of color scheme for dark theme */\n",
       "    --sklearn-color-text-on-default-background: var(--sg-text-color, var(--theme-code-foreground, var(--jp-content-font-color1, white)));\n",
       "    --sklearn-color-background: var(--sg-background-color, var(--theme-background, var(--jp-layout-color0, #111)));\n",
       "    --sklearn-color-border-box: var(--sg-text-color, var(--theme-code-foreground, var(--jp-content-font-color1, white)));\n",
       "    --sklearn-color-icon: #878787;\n",
       "  }\n",
       "}\n",
       "\n",
       "#sk-container-id-1 {\n",
       "  color: var(--sklearn-color-text);\n",
       "}\n",
       "\n",
       "#sk-container-id-1 pre {\n",
       "  padding: 0;\n",
       "}\n",
       "\n",
       "#sk-container-id-1 input.sk-hidden--visually {\n",
       "  border: 0;\n",
       "  clip: rect(1px 1px 1px 1px);\n",
       "  clip: rect(1px, 1px, 1px, 1px);\n",
       "  height: 1px;\n",
       "  margin: -1px;\n",
       "  overflow: hidden;\n",
       "  padding: 0;\n",
       "  position: absolute;\n",
       "  width: 1px;\n",
       "}\n",
       "\n",
       "#sk-container-id-1 div.sk-dashed-wrapped {\n",
       "  border: 1px dashed var(--sklearn-color-line);\n",
       "  margin: 0 0.4em 0.5em 0.4em;\n",
       "  box-sizing: border-box;\n",
       "  padding-bottom: 0.4em;\n",
       "  background-color: var(--sklearn-color-background);\n",
       "}\n",
       "\n",
       "#sk-container-id-1 div.sk-container {\n",
       "  /* jupyter's `normalize.less` sets `[hidden] { display: none; }`\n",
       "     but bootstrap.min.css set `[hidden] { display: none !important; }`\n",
       "     so we also need the `!important` here to be able to override the\n",
       "     default hidden behavior on the sphinx rendered scikit-learn.org.\n",
       "     See: https://github.com/scikit-learn/scikit-learn/issues/21755 */\n",
       "  display: inline-block !important;\n",
       "  position: relative;\n",
       "}\n",
       "\n",
       "#sk-container-id-1 div.sk-text-repr-fallback {\n",
       "  display: none;\n",
       "}\n",
       "\n",
       "div.sk-parallel-item,\n",
       "div.sk-serial,\n",
       "div.sk-item {\n",
       "  /* draw centered vertical line to link estimators */\n",
       "  background-image: linear-gradient(var(--sklearn-color-text-on-default-background), var(--sklearn-color-text-on-default-background));\n",
       "  background-size: 2px 100%;\n",
       "  background-repeat: no-repeat;\n",
       "  background-position: center center;\n",
       "}\n",
       "\n",
       "/* Parallel-specific style estimator block */\n",
       "\n",
       "#sk-container-id-1 div.sk-parallel-item::after {\n",
       "  content: \"\";\n",
       "  width: 100%;\n",
       "  border-bottom: 2px solid var(--sklearn-color-text-on-default-background);\n",
       "  flex-grow: 1;\n",
       "}\n",
       "\n",
       "#sk-container-id-1 div.sk-parallel {\n",
       "  display: flex;\n",
       "  align-items: stretch;\n",
       "  justify-content: center;\n",
       "  background-color: var(--sklearn-color-background);\n",
       "  position: relative;\n",
       "}\n",
       "\n",
       "#sk-container-id-1 div.sk-parallel-item {\n",
       "  display: flex;\n",
       "  flex-direction: column;\n",
       "}\n",
       "\n",
       "#sk-container-id-1 div.sk-parallel-item:first-child::after {\n",
       "  align-self: flex-end;\n",
       "  width: 50%;\n",
       "}\n",
       "\n",
       "#sk-container-id-1 div.sk-parallel-item:last-child::after {\n",
       "  align-self: flex-start;\n",
       "  width: 50%;\n",
       "}\n",
       "\n",
       "#sk-container-id-1 div.sk-parallel-item:only-child::after {\n",
       "  width: 0;\n",
       "}\n",
       "\n",
       "/* Serial-specific style estimator block */\n",
       "\n",
       "#sk-container-id-1 div.sk-serial {\n",
       "  display: flex;\n",
       "  flex-direction: column;\n",
       "  align-items: center;\n",
       "  background-color: var(--sklearn-color-background);\n",
       "  padding-right: 1em;\n",
       "  padding-left: 1em;\n",
       "}\n",
       "\n",
       "\n",
       "/* Toggleable style: style used for estimator/Pipeline/ColumnTransformer box that is\n",
       "clickable and can be expanded/collapsed.\n",
       "- Pipeline and ColumnTransformer use this feature and define the default style\n",
       "- Estimators will overwrite some part of the style using the `sk-estimator` class\n",
       "*/\n",
       "\n",
       "/* Pipeline and ColumnTransformer style (default) */\n",
       "\n",
       "#sk-container-id-1 div.sk-toggleable {\n",
       "  /* Default theme specific background. It is overwritten whether we have a\n",
       "  specific estimator or a Pipeline/ColumnTransformer */\n",
       "  background-color: var(--sklearn-color-background);\n",
       "}\n",
       "\n",
       "/* Toggleable label */\n",
       "#sk-container-id-1 label.sk-toggleable__label {\n",
       "  cursor: pointer;\n",
       "  display: flex;\n",
       "  width: 100%;\n",
       "  margin-bottom: 0;\n",
       "  padding: 0.5em;\n",
       "  box-sizing: border-box;\n",
       "  text-align: center;\n",
       "  align-items: start;\n",
       "  justify-content: space-between;\n",
       "  gap: 0.5em;\n",
       "}\n",
       "\n",
       "#sk-container-id-1 label.sk-toggleable__label .caption {\n",
       "  font-size: 0.6rem;\n",
       "  font-weight: lighter;\n",
       "  color: var(--sklearn-color-text-muted);\n",
       "}\n",
       "\n",
       "#sk-container-id-1 label.sk-toggleable__label-arrow:before {\n",
       "  /* Arrow on the left of the label */\n",
       "  content: \"▸\";\n",
       "  float: left;\n",
       "  margin-right: 0.25em;\n",
       "  color: var(--sklearn-color-icon);\n",
       "}\n",
       "\n",
       "#sk-container-id-1 label.sk-toggleable__label-arrow:hover:before {\n",
       "  color: var(--sklearn-color-text);\n",
       "}\n",
       "\n",
       "/* Toggleable content - dropdown */\n",
       "\n",
       "#sk-container-id-1 div.sk-toggleable__content {\n",
       "  max-height: 0;\n",
       "  max-width: 0;\n",
       "  overflow: hidden;\n",
       "  text-align: left;\n",
       "  /* unfitted */\n",
       "  background-color: var(--sklearn-color-unfitted-level-0);\n",
       "}\n",
       "\n",
       "#sk-container-id-1 div.sk-toggleable__content.fitted {\n",
       "  /* fitted */\n",
       "  background-color: var(--sklearn-color-fitted-level-0);\n",
       "}\n",
       "\n",
       "#sk-container-id-1 div.sk-toggleable__content pre {\n",
       "  margin: 0.2em;\n",
       "  border-radius: 0.25em;\n",
       "  color: var(--sklearn-color-text);\n",
       "  /* unfitted */\n",
       "  background-color: var(--sklearn-color-unfitted-level-0);\n",
       "}\n",
       "\n",
       "#sk-container-id-1 div.sk-toggleable__content.fitted pre {\n",
       "  /* unfitted */\n",
       "  background-color: var(--sklearn-color-fitted-level-0);\n",
       "}\n",
       "\n",
       "#sk-container-id-1 input.sk-toggleable__control:checked~div.sk-toggleable__content {\n",
       "  /* Expand drop-down */\n",
       "  max-height: 200px;\n",
       "  max-width: 100%;\n",
       "  overflow: auto;\n",
       "}\n",
       "\n",
       "#sk-container-id-1 input.sk-toggleable__control:checked~label.sk-toggleable__label-arrow:before {\n",
       "  content: \"▾\";\n",
       "}\n",
       "\n",
       "/* Pipeline/ColumnTransformer-specific style */\n",
       "\n",
       "#sk-container-id-1 div.sk-label input.sk-toggleable__control:checked~label.sk-toggleable__label {\n",
       "  color: var(--sklearn-color-text);\n",
       "  background-color: var(--sklearn-color-unfitted-level-2);\n",
       "}\n",
       "\n",
       "#sk-container-id-1 div.sk-label.fitted input.sk-toggleable__control:checked~label.sk-toggleable__label {\n",
       "  background-color: var(--sklearn-color-fitted-level-2);\n",
       "}\n",
       "\n",
       "/* Estimator-specific style */\n",
       "\n",
       "/* Colorize estimator box */\n",
       "#sk-container-id-1 div.sk-estimator input.sk-toggleable__control:checked~label.sk-toggleable__label {\n",
       "  /* unfitted */\n",
       "  background-color: var(--sklearn-color-unfitted-level-2);\n",
       "}\n",
       "\n",
       "#sk-container-id-1 div.sk-estimator.fitted input.sk-toggleable__control:checked~label.sk-toggleable__label {\n",
       "  /* fitted */\n",
       "  background-color: var(--sklearn-color-fitted-level-2);\n",
       "}\n",
       "\n",
       "#sk-container-id-1 div.sk-label label.sk-toggleable__label,\n",
       "#sk-container-id-1 div.sk-label label {\n",
       "  /* The background is the default theme color */\n",
       "  color: var(--sklearn-color-text-on-default-background);\n",
       "}\n",
       "\n",
       "/* On hover, darken the color of the background */\n",
       "#sk-container-id-1 div.sk-label:hover label.sk-toggleable__label {\n",
       "  color: var(--sklearn-color-text);\n",
       "  background-color: var(--sklearn-color-unfitted-level-2);\n",
       "}\n",
       "\n",
       "/* Label box, darken color on hover, fitted */\n",
       "#sk-container-id-1 div.sk-label.fitted:hover label.sk-toggleable__label.fitted {\n",
       "  color: var(--sklearn-color-text);\n",
       "  background-color: var(--sklearn-color-fitted-level-2);\n",
       "}\n",
       "\n",
       "/* Estimator label */\n",
       "\n",
       "#sk-container-id-1 div.sk-label label {\n",
       "  font-family: monospace;\n",
       "  font-weight: bold;\n",
       "  display: inline-block;\n",
       "  line-height: 1.2em;\n",
       "}\n",
       "\n",
       "#sk-container-id-1 div.sk-label-container {\n",
       "  text-align: center;\n",
       "}\n",
       "\n",
       "/* Estimator-specific */\n",
       "#sk-container-id-1 div.sk-estimator {\n",
       "  font-family: monospace;\n",
       "  border: 1px dotted var(--sklearn-color-border-box);\n",
       "  border-radius: 0.25em;\n",
       "  box-sizing: border-box;\n",
       "  margin-bottom: 0.5em;\n",
       "  /* unfitted */\n",
       "  background-color: var(--sklearn-color-unfitted-level-0);\n",
       "}\n",
       "\n",
       "#sk-container-id-1 div.sk-estimator.fitted {\n",
       "  /* fitted */\n",
       "  background-color: var(--sklearn-color-fitted-level-0);\n",
       "}\n",
       "\n",
       "/* on hover */\n",
       "#sk-container-id-1 div.sk-estimator:hover {\n",
       "  /* unfitted */\n",
       "  background-color: var(--sklearn-color-unfitted-level-2);\n",
       "}\n",
       "\n",
       "#sk-container-id-1 div.sk-estimator.fitted:hover {\n",
       "  /* fitted */\n",
       "  background-color: var(--sklearn-color-fitted-level-2);\n",
       "}\n",
       "\n",
       "/* Specification for estimator info (e.g. \"i\" and \"?\") */\n",
       "\n",
       "/* Common style for \"i\" and \"?\" */\n",
       "\n",
       ".sk-estimator-doc-link,\n",
       "a:link.sk-estimator-doc-link,\n",
       "a:visited.sk-estimator-doc-link {\n",
       "  float: right;\n",
       "  font-size: smaller;\n",
       "  line-height: 1em;\n",
       "  font-family: monospace;\n",
       "  background-color: var(--sklearn-color-background);\n",
       "  border-radius: 1em;\n",
       "  height: 1em;\n",
       "  width: 1em;\n",
       "  text-decoration: none !important;\n",
       "  margin-left: 0.5em;\n",
       "  text-align: center;\n",
       "  /* unfitted */\n",
       "  border: var(--sklearn-color-unfitted-level-1) 1pt solid;\n",
       "  color: var(--sklearn-color-unfitted-level-1);\n",
       "}\n",
       "\n",
       ".sk-estimator-doc-link.fitted,\n",
       "a:link.sk-estimator-doc-link.fitted,\n",
       "a:visited.sk-estimator-doc-link.fitted {\n",
       "  /* fitted */\n",
       "  border: var(--sklearn-color-fitted-level-1) 1pt solid;\n",
       "  color: var(--sklearn-color-fitted-level-1);\n",
       "}\n",
       "\n",
       "/* On hover */\n",
       "div.sk-estimator:hover .sk-estimator-doc-link:hover,\n",
       ".sk-estimator-doc-link:hover,\n",
       "div.sk-label-container:hover .sk-estimator-doc-link:hover,\n",
       ".sk-estimator-doc-link:hover {\n",
       "  /* unfitted */\n",
       "  background-color: var(--sklearn-color-unfitted-level-3);\n",
       "  color: var(--sklearn-color-background);\n",
       "  text-decoration: none;\n",
       "}\n",
       "\n",
       "div.sk-estimator.fitted:hover .sk-estimator-doc-link.fitted:hover,\n",
       ".sk-estimator-doc-link.fitted:hover,\n",
       "div.sk-label-container:hover .sk-estimator-doc-link.fitted:hover,\n",
       ".sk-estimator-doc-link.fitted:hover {\n",
       "  /* fitted */\n",
       "  background-color: var(--sklearn-color-fitted-level-3);\n",
       "  color: var(--sklearn-color-background);\n",
       "  text-decoration: none;\n",
       "}\n",
       "\n",
       "/* Span, style for the box shown on hovering the info icon */\n",
       ".sk-estimator-doc-link span {\n",
       "  display: none;\n",
       "  z-index: 9999;\n",
       "  position: relative;\n",
       "  font-weight: normal;\n",
       "  right: .2ex;\n",
       "  padding: .5ex;\n",
       "  margin: .5ex;\n",
       "  width: min-content;\n",
       "  min-width: 20ex;\n",
       "  max-width: 50ex;\n",
       "  color: var(--sklearn-color-text);\n",
       "  box-shadow: 2pt 2pt 4pt #999;\n",
       "  /* unfitted */\n",
       "  background: var(--sklearn-color-unfitted-level-0);\n",
       "  border: .5pt solid var(--sklearn-color-unfitted-level-3);\n",
       "}\n",
       "\n",
       ".sk-estimator-doc-link.fitted span {\n",
       "  /* fitted */\n",
       "  background: var(--sklearn-color-fitted-level-0);\n",
       "  border: var(--sklearn-color-fitted-level-3);\n",
       "}\n",
       "\n",
       ".sk-estimator-doc-link:hover span {\n",
       "  display: block;\n",
       "}\n",
       "\n",
       "/* \"?\"-specific style due to the `<a>` HTML tag */\n",
       "\n",
       "#sk-container-id-1 a.estimator_doc_link {\n",
       "  float: right;\n",
       "  font-size: 1rem;\n",
       "  line-height: 1em;\n",
       "  font-family: monospace;\n",
       "  background-color: var(--sklearn-color-background);\n",
       "  border-radius: 1rem;\n",
       "  height: 1rem;\n",
       "  width: 1rem;\n",
       "  text-decoration: none;\n",
       "  /* unfitted */\n",
       "  color: var(--sklearn-color-unfitted-level-1);\n",
       "  border: var(--sklearn-color-unfitted-level-1) 1pt solid;\n",
       "}\n",
       "\n",
       "#sk-container-id-1 a.estimator_doc_link.fitted {\n",
       "  /* fitted */\n",
       "  border: var(--sklearn-color-fitted-level-1) 1pt solid;\n",
       "  color: var(--sklearn-color-fitted-level-1);\n",
       "}\n",
       "\n",
       "/* On hover */\n",
       "#sk-container-id-1 a.estimator_doc_link:hover {\n",
       "  /* unfitted */\n",
       "  background-color: var(--sklearn-color-unfitted-level-3);\n",
       "  color: var(--sklearn-color-background);\n",
       "  text-decoration: none;\n",
       "}\n",
       "\n",
       "#sk-container-id-1 a.estimator_doc_link.fitted:hover {\n",
       "  /* fitted */\n",
       "  background-color: var(--sklearn-color-fitted-level-3);\n",
       "}\n",
       "</style><div id=\"sk-container-id-1\" class=\"sk-top-container\"><div class=\"sk-text-repr-fallback\"><pre>Pipeline(steps=[(&#x27;preprocessor&#x27;,\n",
       "                 ColumnTransformer(transformers=[(&#x27;scale&#x27;, StandardScaler(),\n",
       "                                                  [&#x27;pit_stop_rate&#x27;,\n",
       "                                                   &#x27;rolling_avg_lap_time_3&#x27;,\n",
       "                                                   &#x27;lap_time_cv_3&#x27;,\n",
       "                                                   &#x27;qualifying_avg_sec&#x27;,\n",
       "                                                   &#x27;qualifying_delta&#x27;,\n",
       "                                                   &#x27;rolling_fatigue_score&#x27;]),\n",
       "                                                 (&#x27;keep&#x27;, &#x27;passthrough&#x27;,\n",
       "                                                  [&#x27;lap_percent&#x27;,\n",
       "                                                   &#x27;position_gain&#x27;,\n",
       "                                                   &#x27;position_change_rate_3&#x27;])])),\n",
       "                (&#x27;classifier&#x27;, SVC(probability=True))])</pre><b>In a Jupyter environment, please rerun this cell to show the HTML representation or trust the notebook. <br />On GitHub, the HTML representation is unable to render, please try loading this page with nbviewer.org.</b></div><div class=\"sk-container\" hidden><div class=\"sk-item sk-dashed-wrapped\"><div class=\"sk-label-container\"><div class=\"sk-label fitted sk-toggleable\"><input class=\"sk-toggleable__control sk-hidden--visually\" id=\"sk-estimator-id-1\" type=\"checkbox\" ><label for=\"sk-estimator-id-1\" class=\"sk-toggleable__label fitted sk-toggleable__label-arrow\"><div><div>Pipeline</div></div><div><a class=\"sk-estimator-doc-link fitted\" rel=\"noreferrer\" target=\"_blank\" href=\"https://scikit-learn.org/1.6/modules/generated/sklearn.pipeline.Pipeline.html\">?<span>Documentation for Pipeline</span></a><span class=\"sk-estimator-doc-link fitted\">i<span>Fitted</span></span></div></label><div class=\"sk-toggleable__content fitted\"><pre>Pipeline(steps=[(&#x27;preprocessor&#x27;,\n",
       "                 ColumnTransformer(transformers=[(&#x27;scale&#x27;, StandardScaler(),\n",
       "                                                  [&#x27;pit_stop_rate&#x27;,\n",
       "                                                   &#x27;rolling_avg_lap_time_3&#x27;,\n",
       "                                                   &#x27;lap_time_cv_3&#x27;,\n",
       "                                                   &#x27;qualifying_avg_sec&#x27;,\n",
       "                                                   &#x27;qualifying_delta&#x27;,\n",
       "                                                   &#x27;rolling_fatigue_score&#x27;]),\n",
       "                                                 (&#x27;keep&#x27;, &#x27;passthrough&#x27;,\n",
       "                                                  [&#x27;lap_percent&#x27;,\n",
       "                                                   &#x27;position_gain&#x27;,\n",
       "                                                   &#x27;position_change_rate_3&#x27;])])),\n",
       "                (&#x27;classifier&#x27;, SVC(probability=True))])</pre></div> </div></div><div class=\"sk-serial\"><div class=\"sk-item sk-dashed-wrapped\"><div class=\"sk-label-container\"><div class=\"sk-label fitted sk-toggleable\"><input class=\"sk-toggleable__control sk-hidden--visually\" id=\"sk-estimator-id-2\" type=\"checkbox\" ><label for=\"sk-estimator-id-2\" class=\"sk-toggleable__label fitted sk-toggleable__label-arrow\"><div><div>preprocessor: ColumnTransformer</div></div><div><a class=\"sk-estimator-doc-link fitted\" rel=\"noreferrer\" target=\"_blank\" href=\"https://scikit-learn.org/1.6/modules/generated/sklearn.compose.ColumnTransformer.html\">?<span>Documentation for preprocessor: ColumnTransformer</span></a></div></label><div class=\"sk-toggleable__content fitted\"><pre>ColumnTransformer(transformers=[(&#x27;scale&#x27;, StandardScaler(),\n",
       "                                 [&#x27;pit_stop_rate&#x27;, &#x27;rolling_avg_lap_time_3&#x27;,\n",
       "                                  &#x27;lap_time_cv_3&#x27;, &#x27;qualifying_avg_sec&#x27;,\n",
       "                                  &#x27;qualifying_delta&#x27;,\n",
       "                                  &#x27;rolling_fatigue_score&#x27;]),\n",
       "                                (&#x27;keep&#x27;, &#x27;passthrough&#x27;,\n",
       "                                 [&#x27;lap_percent&#x27;, &#x27;position_gain&#x27;,\n",
       "                                  &#x27;position_change_rate_3&#x27;])])</pre></div> </div></div><div class=\"sk-parallel\"><div class=\"sk-parallel-item\"><div class=\"sk-item\"><div class=\"sk-label-container\"><div class=\"sk-label fitted sk-toggleable\"><input class=\"sk-toggleable__control sk-hidden--visually\" id=\"sk-estimator-id-3\" type=\"checkbox\" ><label for=\"sk-estimator-id-3\" class=\"sk-toggleable__label fitted sk-toggleable__label-arrow\"><div><div>scale</div></div></label><div class=\"sk-toggleable__content fitted\"><pre>[&#x27;pit_stop_rate&#x27;, &#x27;rolling_avg_lap_time_3&#x27;, &#x27;lap_time_cv_3&#x27;, &#x27;qualifying_avg_sec&#x27;, &#x27;qualifying_delta&#x27;, &#x27;rolling_fatigue_score&#x27;]</pre></div> </div></div><div class=\"sk-serial\"><div class=\"sk-item\"><div class=\"sk-estimator fitted sk-toggleable\"><input class=\"sk-toggleable__control sk-hidden--visually\" id=\"sk-estimator-id-4\" type=\"checkbox\" ><label for=\"sk-estimator-id-4\" class=\"sk-toggleable__label fitted sk-toggleable__label-arrow\"><div><div>StandardScaler</div></div><div><a class=\"sk-estimator-doc-link fitted\" rel=\"noreferrer\" target=\"_blank\" href=\"https://scikit-learn.org/1.6/modules/generated/sklearn.preprocessing.StandardScaler.html\">?<span>Documentation for StandardScaler</span></a></div></label><div class=\"sk-toggleable__content fitted\"><pre>StandardScaler()</pre></div> </div></div></div></div></div><div class=\"sk-parallel-item\"><div class=\"sk-item\"><div class=\"sk-label-container\"><div class=\"sk-label fitted sk-toggleable\"><input class=\"sk-toggleable__control sk-hidden--visually\" id=\"sk-estimator-id-5\" type=\"checkbox\" ><label for=\"sk-estimator-id-5\" class=\"sk-toggleable__label fitted sk-toggleable__label-arrow\"><div><div>keep</div></div></label><div class=\"sk-toggleable__content fitted\"><pre>[&#x27;lap_percent&#x27;, &#x27;position_gain&#x27;, &#x27;position_change_rate_3&#x27;]</pre></div> </div></div><div class=\"sk-serial\"><div class=\"sk-item\"><div class=\"sk-estimator fitted sk-toggleable\"><input class=\"sk-toggleable__control sk-hidden--visually\" id=\"sk-estimator-id-6\" type=\"checkbox\" ><label for=\"sk-estimator-id-6\" class=\"sk-toggleable__label fitted sk-toggleable__label-arrow\"><div><div>passthrough</div></div></label><div class=\"sk-toggleable__content fitted\"><pre>passthrough</pre></div> </div></div></div></div></div></div></div><div class=\"sk-item\"><div class=\"sk-estimator fitted sk-toggleable\"><input class=\"sk-toggleable__control sk-hidden--visually\" id=\"sk-estimator-id-7\" type=\"checkbox\" ><label for=\"sk-estimator-id-7\" class=\"sk-toggleable__label fitted sk-toggleable__label-arrow\"><div><div>SVC</div></div><div><a class=\"sk-estimator-doc-link fitted\" rel=\"noreferrer\" target=\"_blank\" href=\"https://scikit-learn.org/1.6/modules/generated/sklearn.svm.SVC.html\">?<span>Documentation for SVC</span></a></div></label><div class=\"sk-toggleable__content fitted\"><pre>SVC(probability=True)</pre></div> </div></div></div></div></div></div>"
      ],
      "text/plain": [
       "Pipeline(steps=[('preprocessor',\n",
       "                 ColumnTransformer(transformers=[('scale', StandardScaler(),\n",
       "                                                  ['pit_stop_rate',\n",
       "                                                   'rolling_avg_lap_time_3',\n",
       "                                                   'lap_time_cv_3',\n",
       "                                                   'qualifying_avg_sec',\n",
       "                                                   'qualifying_delta',\n",
       "                                                   'rolling_fatigue_score']),\n",
       "                                                 ('keep', 'passthrough',\n",
       "                                                  ['lap_percent',\n",
       "                                                   'position_gain',\n",
       "                                                   'position_change_rate_3'])])),\n",
       "                ('classifier', SVC(probability=True))])"
      ]
     },
     "execution_count": 22,
     "metadata": {},
     "output_type": "execute_result"
    }
   ],
   "source": [
    "pipeline.fit(X_train_smote, y_train_smote)"
   ]
  },
  {
   "cell_type": "markdown",
   "id": "15f6e192",
   "metadata": {},
   "source": [
    "#### **Performance Metrices:**"
   ]
  },
  {
   "cell_type": "code",
   "execution_count": 23,
   "id": "7b5037e3",
   "metadata": {},
   "outputs": [
    {
     "data": {
      "text/plain": [
       "0.7334191956361747"
      ]
     },
     "execution_count": 23,
     "metadata": {},
     "output_type": "execute_result"
    }
   ],
   "source": [
    "train_score = pipeline.score(X_train_smote, y_train_smote)\n",
    "train_score"
   ]
  },
  {
   "cell_type": "code",
   "execution_count": 24,
   "id": "e004cbda",
   "metadata": {},
   "outputs": [
    {
     "data": {
      "text/plain": [
       "0.7036160074834108"
      ]
     },
     "execution_count": 24,
     "metadata": {},
     "output_type": "execute_result"
    }
   ],
   "source": [
    "test_score = pipeline.score(X_test, y_test)\n",
    "test_score"
   ]
  },
  {
   "cell_type": "code",
   "execution_count": 25,
   "id": "99bb6530",
   "metadata": {},
   "outputs": [],
   "source": [
    "y_train_pred = pipeline.predict(X_train_smote)\n",
    "y_test_pred = pipeline.predict(X_test)"
   ]
  },
  {
   "cell_type": "code",
   "execution_count": 26,
   "id": "aa071633",
   "metadata": {},
   "outputs": [
    {
     "name": "stdout",
     "output_type": "stream",
     "text": [
      "Classification Report Train Set:\n",
      "               precision    recall  f1-score   support\n",
      "\n",
      "           0       0.75      0.69      0.72     46198\n",
      "           1       0.72      0.77      0.74     46198\n",
      "\n",
      "    accuracy                           0.73     92396\n",
      "   macro avg       0.74      0.73      0.73     92396\n",
      "weighted avg       0.74      0.73      0.73     92396\n",
      "\n"
     ]
    }
   ],
   "source": [
    "print(\"Classification Report Train Set:\\n\", classification_report(y_train_smote, y_train_pred))"
   ]
  },
  {
   "cell_type": "code",
   "execution_count": 27,
   "id": "39d7fd0f",
   "metadata": {},
   "outputs": [
    {
     "name": "stdout",
     "output_type": "stream",
     "text": [
      "Classification Report Test Set:\n",
      "               precision    recall  f1-score   support\n",
      "\n",
      "           0       0.84      0.69      0.75     22755\n",
      "           1       0.54      0.74      0.62     11454\n",
      "\n",
      "    accuracy                           0.70     34209\n",
      "   macro avg       0.69      0.71      0.69     34209\n",
      "weighted avg       0.74      0.70      0.71     34209\n",
      "\n"
     ]
    }
   ],
   "source": [
    "print(\"Classification Report Test Set:\\n\", classification_report(y_test, y_test_pred))"
   ]
  },
  {
   "cell_type": "code",
   "execution_count": 28,
   "id": "5816a054",
   "metadata": {},
   "outputs": [],
   "source": [
    "\n",
    "\n",
    "def plot_roc_curve(model, X_test, y_test):\n",
    "    \"\"\"\n",
    "    Plots the ROC-AUC curve for a given model and test set.\n",
    "    \n",
    "    Args:\n",
    "        model: Trained model (must have predict_proba method).\n",
    "        X_test: Features of test set.\n",
    "        y_test: True labels of test set.\n",
    "    \"\"\"\n",
    "    # Predict probabilities\n",
    "    if hasattr(model, \"predict_proba\"):\n",
    "        y_pred_proba = model.predict_proba(X_test)[:, 1]\n",
    "    else:\n",
    "        raise ValueError(\"Model does not support probability prediction.\")\n",
    "\n",
    "    # Calculate ROC curve\n",
    "    fpr, tpr, thresholds = roc_curve(y_test, y_pred_proba)\n",
    "    auc_score = roc_auc_score(y_test, y_pred_proba)\n",
    "    \n",
    "    # Plot\n",
    "    plt.figure(figsize=(5, 4))\n",
    "    plt.plot(fpr, tpr, label=f\"AUC = {auc_score:.4f}\")\n",
    "    plt.plot([0, 1], [0, 1], 'k--', label=\"Random Classifier\")\n",
    "    plt.xlim([-0.01, 1.01])\n",
    "    plt.ylim([-0.01, 1.01])\n",
    "    plt.xlabel('False Positive Rate (FPR)')\n",
    "    plt.ylabel('True Positive Rate (TPR)')\n",
    "    plt.title('ROC-AUC Curve')\n",
    "    plt.legend(loc=\"lower right\")\n",
    "    plt.grid()\n",
    "    plt.show()"
   ]
  },
  {
   "cell_type": "code",
   "execution_count": 29,
   "id": "381f4bb1",
   "metadata": {},
   "outputs": [
    {
     "data": {
      "image/png": "[encoded data removed]",
      "text/plain": [
       "<Figure size 500x400 with 1 Axes>"
      ]
     },
     "metadata": {},
     "output_type": "display_data"
    }
   ],
   "source": [
    "plot_roc_curve(pipeline, X_train_smote, y_train_smote)"
   ]
  },
  {
   "cell_type": "code",
   "execution_count": 30,
   "id": "13db413c",
   "metadata": {},
   "outputs": [
    {
     "data": {
      "image/png": "[encoded data removed]",
      "text/plain": [
       "<Figure size 500x400 with 1 Axes>"
      ]
     },
     "metadata": {},
     "output_type": "display_data"
    }
   ],
   "source": [
    "plot_roc_curve(pipeline, X_test, y_test)"
   ]
  },
  {
   "cell_type": "markdown",
   "id": "a0add61f",
   "metadata": {},
   "source": [
    "#### **Hyper parameters Tuning:**"
   ]
  },
  {
   "cell_type": "code",
   "execution_count": 31,
   "id": "bc956a6d",
   "metadata": {},
   "outputs": [],
   "source": [
    "import warnings\n",
    "warnings.filterwarnings('ignore')"
   ]
  },
  {
   "cell_type": "code",
   "execution_count": 32,
   "id": "861c7d31",
   "metadata": {},
   "outputs": [],
   "source": [
    "import optuna"
   ]
  },
  {
   "cell_type": "code",
   "execution_count": 33,
   "id": "9fda09da",
   "metadata": {},
   "outputs": [
    {
     "data": {
      "text/plain": [
       "Index(['pit_stop_rate', 'rolling_avg_lap_time_3', 'lap_time_cv_3',\n",
       "       'qualifying_avg_sec', 'qualifying_delta', 'rolling_fatigue_score',\n",
       "       'lap_percent', 'position_gain', 'position_change_rate_3'],\n",
       "      dtype='object')"
      ]
     },
     "execution_count": 33,
     "metadata": {},
     "output_type": "execute_result"
    }
   ],
   "source": [
    "X_train.columns"
   ]
  },
  {
   "cell_type": "code",
   "execution_count": null,
   "id": "d13e06ce",
   "metadata": {},
   "outputs": [],
   "source": []
  },
  {
   "cell_type": "code",
   "execution_count": null,
   "id": "23ce46fa",
   "metadata": {},
   "outputs": [],
   "source": []
  },
  {
   "cell_type": "code",
   "execution_count": null,
   "id": "6a59d71a",
   "metadata": {},
   "outputs": [],
   "source": []
  }
 ],
 "metadata": {
  "kernelspec": {
   "display_name": "ml_env",
   "language": "python",
   "name": "python3"
  },
  "language_info": {
   "codemirror_mode": {
    "name": "ipython",
    "version": 3
   },
   "file_extension": ".py",
   "mimetype": "text/x-python",
   "name": "python",
   "nbconvert_exporter": "python",
   "pygments_lexer": "ipython3",
   "version": "3.13.2"
  }
 },
 "nbformat": 4,
 "nbformat_minor": 5
}
