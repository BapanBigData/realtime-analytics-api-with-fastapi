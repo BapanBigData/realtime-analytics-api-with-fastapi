{
 "cells": [
  {
   "cell_type": "code",
   "execution_count": 38,
   "id": "b3825e5d",
   "metadata": {},
   "outputs": [],
   "source": [
    "\n",
    "# required imports\n",
    "import numpy as np\n",
    "import pandas as pd\n",
    "import matplotlib.pyplot as plt\n",
    "import seaborn as sns\n",
    "from sklearn.model_selection import train_test_split, cross_val_score\n",
    "from sklearn.pipeline import Pipeline\n",
    "from sklearn.compose import ColumnTransformer\n",
    "from sklearn.preprocessing import StandardScaler\n",
    "from sklearn.metrics import classification_report, roc_auc_score, roc_curve\n",
    "from sklearn.linear_model import LogisticRegression\n",
    "from imblearn.over_sampling import SMOTE\n",
    "\n",
    "%matplotlib inline"
   ]
  },
  {
   "cell_type": "markdown",
   "id": "c69b3e95",
   "metadata": {},
   "source": [
    "#### **Data Overview:**"
   ]
  },
  {
   "cell_type": "code",
   "execution_count": 3,
   "id": "2a778559",
   "metadata": {},
   "outputs": [],
   "source": [
    "df = pd.read_parquet(\"../features/training_set\")\n",
    "df = df.sample(frac=1.0, random_state=47).reset_index(drop=True)"
   ]
  },
  {
   "cell_type": "code",
   "execution_count": 4,
   "id": "f07a7599",
   "metadata": {},
   "outputs": [
    {
     "data": {
      "text/plain": [
       "(103663, 16)"
      ]
     },
     "execution_count": 4,
     "metadata": {},
     "output_type": "execute_result"
    }
   ],
   "source": [
    "df.shape"
   ]
  },
  {
   "cell_type": "code",
   "execution_count": 5,
   "id": "d4ce747a",
   "metadata": {},
   "outputs": [
    {
     "data": {
      "text/html": [
       "<div>\n",
       "<style scoped>\n",
       "    .dataframe tbody tr th:only-of-type {\n",
       "        vertical-align: middle;\n",
       "    }\n",
       "\n",
       "    .dataframe tbody tr th {\n",
       "        vertical-align: top;\n",
       "    }\n",
       "\n",
       "    .dataframe thead th {\n",
       "        text-align: right;\n",
       "    }\n",
       "</style>\n",
       "<table border=\"1\" class=\"dataframe\">\n",
       "  <thead>\n",
       "    <tr style=\"text-align: right;\">\n",
       "      <th></th>\n",
       "      <th>race_year</th>\n",
       "      <th>race_name</th>\n",
       "      <th>driver_id</th>\n",
       "      <th>driver_nationality</th>\n",
       "      <th>team</th>\n",
       "      <th>lap_percent</th>\n",
       "      <th>position_gain</th>\n",
       "      <th>pit_stop_rate</th>\n",
       "      <th>rolling_avg_lap_time_3</th>\n",
       "      <th>lap_time_cv_3</th>\n",
       "      <th>qualifying_avg_sec</th>\n",
       "      <th>qualifying_delta</th>\n",
       "      <th>points</th>\n",
       "      <th>rolling_fatigue_score</th>\n",
       "      <th>position_change_rate_3</th>\n",
       "      <th>is_pole_position</th>\n",
       "    </tr>\n",
       "  </thead>\n",
       "  <tbody>\n",
       "    <tr>\n",
       "      <th>0</th>\n",
       "      <td>2020</td>\n",
       "      <td>Styrian Grand Prix</td>\n",
       "      <td>830</td>\n",
       "      <td>Dutch</td>\n",
       "      <td>Red Bull</td>\n",
       "      <td>0.239437</td>\n",
       "      <td>0</td>\n",
       "      <td>8.352938</td>\n",
       "      <td>68.859998</td>\n",
       "      <td>0.000367</td>\n",
       "      <td>78.907997</td>\n",
       "      <td>2.550995</td>\n",
       "      <td>15.0</td>\n",
       "      <td>-6.267836</td>\n",
       "      <td>0</td>\n",
       "      <td>True</td>\n",
       "    </tr>\n",
       "    <tr>\n",
       "      <th>1</th>\n",
       "      <td>2020</td>\n",
       "      <td>Portuguese Grand Prix</td>\n",
       "      <td>817</td>\n",
       "      <td>Australian</td>\n",
       "      <td>Renault</td>\n",
       "      <td>0.569231</td>\n",
       "      <td>3</td>\n",
       "      <td>1.756756</td>\n",
       "      <td>83.161001</td>\n",
       "      <td>0.012472</td>\n",
       "      <td>77.550999</td>\n",
       "      <td>0.139999</td>\n",
       "      <td>2.0</td>\n",
       "      <td>-1.577974</td>\n",
       "      <td>1</td>\n",
       "      <td>False</td>\n",
       "    </tr>\n",
       "    <tr>\n",
       "      <th>2</th>\n",
       "      <td>2018</td>\n",
       "      <td>Mexican Grand Prix</td>\n",
       "      <td>20</td>\n",
       "      <td>German</td>\n",
       "      <td>Ferrari</td>\n",
       "      <td>0.971831</td>\n",
       "      <td>2</td>\n",
       "      <td>2.057971</td>\n",
       "      <td>80.057999</td>\n",
       "      <td>0.001082</td>\n",
       "      <td>75.591332</td>\n",
       "      <td>1.119003</td>\n",
       "      <td>18.0</td>\n",
       "      <td>-3.564775</td>\n",
       "      <td>0</td>\n",
       "      <td>True</td>\n",
       "    </tr>\n",
       "    <tr>\n",
       "      <th>3</th>\n",
       "      <td>2018</td>\n",
       "      <td>United States Grand Prix</td>\n",
       "      <td>843</td>\n",
       "      <td>New Zealander</td>\n",
       "      <td>Toro Rosso</td>\n",
       "      <td>0.327273</td>\n",
       "      <td>9</td>\n",
       "      <td>3.055555</td>\n",
       "      <td>102.529335</td>\n",
       "      <td>0.001676</td>\n",
       "      <td>95.205992</td>\n",
       "      <td>0.000000</td>\n",
       "      <td>2.0</td>\n",
       "      <td>-3.754922</td>\n",
       "      <td>0</td>\n",
       "      <td>False</td>\n",
       "    </tr>\n",
       "    <tr>\n",
       "      <th>4</th>\n",
       "      <td>2013</td>\n",
       "      <td>Chinese Grand Prix</td>\n",
       "      <td>8</td>\n",
       "      <td>Finnish</td>\n",
       "      <td>Lotus F1</td>\n",
       "      <td>0.964286</td>\n",
       "      <td>0</td>\n",
       "      <td>3.111111</td>\n",
       "      <td>100.174665</td>\n",
       "      <td>0.001467</td>\n",
       "      <td>95.821998</td>\n",
       "      <td>2.285004</td>\n",
       "      <td>18.0</td>\n",
       "      <td>-3.485187</td>\n",
       "      <td>1</td>\n",
       "      <td>True</td>\n",
       "    </tr>\n",
       "  </tbody>\n",
       "</table>\n",
       "</div>"
      ],
      "text/plain": [
       "   race_year                 race_name  driver_id driver_nationality  \\\n",
       "0       2020        Styrian Grand Prix        830              Dutch   \n",
       "1       2020     Portuguese Grand Prix        817         Australian   \n",
       "2       2018        Mexican Grand Prix         20             German   \n",
       "3       2018  United States Grand Prix        843      New Zealander   \n",
       "4       2013        Chinese Grand Prix          8            Finnish   \n",
       "\n",
       "         team  lap_percent  position_gain  pit_stop_rate  \\\n",
       "0    Red Bull     0.239437              0       8.352938   \n",
       "1     Renault     0.569231              3       1.756756   \n",
       "2     Ferrari     0.971831              2       2.057971   \n",
       "3  Toro Rosso     0.327273              9       3.055555   \n",
       "4    Lotus F1     0.964286              0       3.111111   \n",
       "\n",
       "   rolling_avg_lap_time_3  lap_time_cv_3  qualifying_avg_sec  \\\n",
       "0               68.859998       0.000367           78.907997   \n",
       "1               83.161001       0.012472           77.550999   \n",
       "2               80.057999       0.001082           75.591332   \n",
       "3              102.529335       0.001676           95.205992   \n",
       "4              100.174665       0.001467           95.821998   \n",
       "\n",
       "   qualifying_delta  points  rolling_fatigue_score  position_change_rate_3  \\\n",
       "0          2.550995    15.0              -6.267836                       0   \n",
       "1          0.139999     2.0              -1.577974                       1   \n",
       "2          1.119003    18.0              -3.564775                       0   \n",
       "3          0.000000     2.0              -3.754922                       0   \n",
       "4          2.285004    18.0              -3.485187                       1   \n",
       "\n",
       "   is_pole_position  \n",
       "0              True  \n",
       "1             False  \n",
       "2              True  \n",
       "3             False  \n",
       "4              True  "
      ]
     },
     "execution_count": 5,
     "metadata": {},
     "output_type": "execute_result"
    }
   ],
   "source": [
    "df.head()"
   ]
  },
  {
   "cell_type": "markdown",
   "id": "af5a7dd1",
   "metadata": {},
   "source": [
    "* Drop `points` because it might dominates the model's decisions, and may cause it to rely on driver history rather than real-time race dynamics, which reduces generalizability and hides the true predictive power of the live telemetry features."
   ]
  },
  {
   "cell_type": "code",
   "execution_count": 6,
   "id": "355668df",
   "metadata": {},
   "outputs": [],
   "source": [
    "df = df.drop(columns=['race_year', 'race_name', 'driver_id', 'driver_nationality', 'team', 'points'], axis=1)"
   ]
  },
  {
   "cell_type": "code",
   "execution_count": 8,
   "id": "2ff58172",
   "metadata": {},
   "outputs": [
    {
     "data": {
      "text/plain": [
       "lap_percent                 0\n",
       "position_gain               0\n",
       "pit_stop_rate               0\n",
       "rolling_avg_lap_time_3      0\n",
       "lap_time_cv_3               0\n",
       "qualifying_avg_sec          0\n",
       "qualifying_delta          511\n",
       "rolling_fatigue_score       0\n",
       "position_change_rate_3      0\n",
       "is_pole_position            0\n",
       "dtype: int64"
      ]
     },
     "execution_count": 8,
     "metadata": {},
     "output_type": "execute_result"
    }
   ],
   "source": [
    "# null counts\n",
    "df.isnull().sum()"
   ]
  },
  {
   "cell_type": "code",
   "execution_count": 9,
   "id": "6e83e248",
   "metadata": {},
   "outputs": [
    {
     "data": {
      "text/plain": [
       "np.float32(10.782005)"
      ]
     },
     "execution_count": 9,
     "metadata": {},
     "output_type": "execute_result"
    }
   ],
   "source": [
    "# 95th percentile of qualifying_delta (excluding nulls)\n",
    "qdelta_95 = np.nanpercentile(df['qualifying_delta'], 95)\n",
    "qdelta_95"
   ]
  },
  {
   "cell_type": "code",
   "execution_count": 10,
   "id": "c7fbce00",
   "metadata": {},
   "outputs": [],
   "source": [
    "df['qualifying_delta'] = df['qualifying_delta'].fillna(qdelta_95)"
   ]
  },
  {
   "cell_type": "code",
   "execution_count": 11,
   "id": "c9c1e221",
   "metadata": {},
   "outputs": [],
   "source": [
    "# change the dtype of target from bool to int\n",
    "df['is_pole_position'] = df['is_pole_position'].astype(int)"
   ]
  },
  {
   "cell_type": "markdown",
   "id": "789a46ff",
   "metadata": {},
   "source": [
    "#### **Train-Test Split:**"
   ]
  },
  {
   "cell_type": "code",
   "execution_count": 12,
   "id": "3b904055",
   "metadata": {},
   "outputs": [],
   "source": [
    "# select features to scale and features to keep as it is\n",
    "features_to_scale = [\n",
    "    'pit_stop_rate',\n",
    "    'rolling_avg_lap_time_3',\n",
    "    'lap_time_cv_3',\n",
    "    'qualifying_avg_sec',\n",
    "    'qualifying_delta',\n",
    "    'rolling_fatigue_score'\n",
    "]\n",
    "\n",
    "features_to_keep = [\n",
    "    'lap_percent',\n",
    "    'position_gain', \n",
    "    'position_change_rate_3'\n",
    "]"
   ]
  },
  {
   "cell_type": "code",
   "execution_count": 13,
   "id": "d03e3949",
   "metadata": {},
   "outputs": [],
   "source": [
    "X = df[features_to_scale + features_to_keep]\n",
    "y = df['is_pole_position']"
   ]
  },
  {
   "cell_type": "code",
   "execution_count": 14,
   "id": "07881f8a",
   "metadata": {},
   "outputs": [],
   "source": [
    "X_train, X_test, y_train, y_test = train_test_split(\n",
    "    X, y, test_size=0.33, stratify=y, random_state=47\n",
    ")"
   ]
  },
  {
   "cell_type": "code",
   "execution_count": 15,
   "id": "20de04a4",
   "metadata": {},
   "outputs": [
    {
     "data": {
      "text/plain": [
       "((69454, 9), (34209, 9), (69454,), (34209,))"
      ]
     },
     "execution_count": 15,
     "metadata": {},
     "output_type": "execute_result"
    }
   ],
   "source": [
    "X_train.shape, X_test.shape, y_train.shape, y_test.shape"
   ]
  },
  {
   "cell_type": "code",
   "execution_count": 16,
   "id": "322d2380",
   "metadata": {},
   "outputs": [
    {
     "data": {
      "text/plain": [
       "is_pole_position\n",
       "0    66.515967\n",
       "1    33.484033\n",
       "Name: proportion, dtype: float64"
      ]
     },
     "execution_count": 16,
     "metadata": {},
     "output_type": "execute_result"
    }
   ],
   "source": [
    "y_train.value_counts(normalize=True) * 100"
   ]
  },
  {
   "cell_type": "code",
   "execution_count": 17,
   "id": "c3027579",
   "metadata": {},
   "outputs": [
    {
     "data": {
      "text/plain": [
       "is_pole_position\n",
       "0    66.517583\n",
       "1    33.482417\n",
       "Name: proportion, dtype: float64"
      ]
     },
     "execution_count": 17,
     "metadata": {},
     "output_type": "execute_result"
    }
   ],
   "source": [
    "y_test.value_counts(normalize=True) * 100"
   ]
  },
  {
   "cell_type": "code",
   "execution_count": 18,
   "id": "e231796f",
   "metadata": {},
   "outputs": [
    {
     "name": "stdout",
     "output_type": "stream",
     "text": [
      "Overlapping rows: 0\n"
     ]
    }
   ],
   "source": [
    "\n",
    "# Combine and compare if rows match\n",
    "train_rows = pd.DataFrame(X_train).astype(str).apply(lambda x: ''.join(x), axis=1)\n",
    "test_rows = pd.DataFrame(X_test).astype(str).apply(lambda x: ''.join(x), axis=1)\n",
    "\n",
    "# How many overlap?\n",
    "overlap = train_rows.isin(test_rows).sum()\n",
    "print(f\"Overlapping rows: {overlap}\")"
   ]
  },
  {
   "cell_type": "markdown",
   "id": "aff84769",
   "metadata": {},
   "source": [
    "#### **SMOTE**"
   ]
  },
  {
   "cell_type": "code",
   "execution_count": 19,
   "id": "d1d1dc8c",
   "metadata": {},
   "outputs": [],
   "source": [
    "# Apply SMOTE on train set\n",
    "smote = SMOTE(random_state=47)\n",
    "X_train_smote, y_train_smote = smote.fit_resample(X_train, y_train)"
   ]
  },
  {
   "cell_type": "code",
   "execution_count": 20,
   "id": "11fcade3",
   "metadata": {},
   "outputs": [
    {
     "name": "stdout",
     "output_type": "stream",
     "text": [
      "✅ After SMOTE: (92396, 9), (92396,)\n"
     ]
    }
   ],
   "source": [
    "print(f\"✅ After SMOTE: {X_train_smote.shape}, {y_train_smote.shape}\")"
   ]
  },
  {
   "cell_type": "code",
   "execution_count": 21,
   "id": "66f3d1ed",
   "metadata": {},
   "outputs": [
    {
     "data": {
      "text/plain": [
       "is_pole_position\n",
       "1    50.0\n",
       "0    50.0\n",
       "Name: proportion, dtype: float64"
      ]
     },
     "execution_count": 21,
     "metadata": {},
     "output_type": "execute_result"
    }
   ],
   "source": [
    "y_train_smote.value_counts(normalize=True) * 100"
   ]
  },
  {
   "cell_type": "markdown",
   "id": "2e06c833",
   "metadata": {},
   "source": [
    "#### **ML Pipeline:**"
   ]
  },
  {
   "cell_type": "code",
   "execution_count": 22,
   "id": "b6777bad",
   "metadata": {},
   "outputs": [],
   "source": [
    "# ml pipeline\n",
    "preprocessor = ColumnTransformer([\n",
    "    ('scale', StandardScaler(), features_to_scale),\n",
    "    ('keep', 'passthrough', features_to_keep)\n",
    "])\n",
    "\n",
    "lr_model = LogisticRegression(\n",
    "    solver='liblinear'\n",
    ")"
   ]
  },
  {
   "cell_type": "code",
   "execution_count": 26,
   "id": "eba3a17c",
   "metadata": {},
   "outputs": [],
   "source": [
    "# initializing the pipeline\n",
    "pipeline = Pipeline([\n",
    "    ('preprocessor', preprocessor),\n",
    "    ('classifier', lr_model)\n",
    "])"
   ]
  },
  {
   "cell_type": "code",
   "execution_count": 27,
   "id": "c2a767e0",
   "metadata": {},
   "outputs": [
    {
     "data": {
      "text/html": [
       "<style>#sk-container-id-2 {\n",
       "  /* Definition of color scheme common for light and dark mode */\n",
       "  --sklearn-color-text: #000;\n",
       "  --sklearn-color-text-muted: #666;\n",
       "  --sklearn-color-line: gray;\n",
       "  /* Definition of color scheme for unfitted estimators */\n",
       "  --sklearn-color-unfitted-level-0: #fff5e6;\n",
       "  --sklearn-color-unfitted-level-1: #f6e4d2;\n",
       "  --sklearn-color-unfitted-level-2: #ffe0b3;\n",
       "  --sklearn-color-unfitted-level-3: chocolate;\n",
       "  /* Definition of color scheme for fitted estimators */\n",
       "  --sklearn-color-fitted-level-0: #f0f8ff;\n",
       "  --sklearn-color-fitted-level-1: #d4ebff;\n",
       "  --sklearn-color-fitted-level-2: #b3dbfd;\n",
       "  --sklearn-color-fitted-level-3: cornflowerblue;\n",
       "\n",
       "  /* Specific color for light theme */\n",
       "  --sklearn-color-text-on-default-background: var(--sg-text-color, var(--theme-code-foreground, var(--jp-content-font-color1, black)));\n",
       "  --sklearn-color-background: var(--sg-background-color, var(--theme-background, var(--jp-layout-color0, white)));\n",
       "  --sklearn-color-border-box: var(--sg-text-color, var(--theme-code-foreground, var(--jp-content-font-color1, black)));\n",
       "  --sklearn-color-icon: #696969;\n",
       "\n",
       "  @media (prefers-color-scheme: dark) {\n",
       "    /* Redefinition of color scheme for dark theme */\n",
       "    --sklearn-color-text-on-default-background: var(--sg-text-color, var(--theme-code-foreground, var(--jp-content-font-color1, white)));\n",
       "    --sklearn-color-background: var(--sg-background-color, var(--theme-background, var(--jp-layout-color0, #111)));\n",
       "    --sklearn-color-border-box: var(--sg-text-color, var(--theme-code-foreground, var(--jp-content-font-color1, white)));\n",
       "    --sklearn-color-icon: #878787;\n",
       "  }\n",
       "}\n",
       "\n",
       "#sk-container-id-2 {\n",
       "  color: var(--sklearn-color-text);\n",
       "}\n",
       "\n",
       "#sk-container-id-2 pre {\n",
       "  padding: 0;\n",
       "}\n",
       "\n",
       "#sk-container-id-2 input.sk-hidden--visually {\n",
       "  border: 0;\n",
       "  clip: rect(1px 1px 1px 1px);\n",
       "  clip: rect(1px, 1px, 1px, 1px);\n",
       "  height: 1px;\n",
       "  margin: -1px;\n",
       "  overflow: hidden;\n",
       "  padding: 0;\n",
       "  position: absolute;\n",
       "  width: 1px;\n",
       "}\n",
       "\n",
       "#sk-container-id-2 div.sk-dashed-wrapped {\n",
       "  border: 1px dashed var(--sklearn-color-line);\n",
       "  margin: 0 0.4em 0.5em 0.4em;\n",
       "  box-sizing: border-box;\n",
       "  padding-bottom: 0.4em;\n",
       "  background-color: var(--sklearn-color-background);\n",
       "}\n",
       "\n",
       "#sk-container-id-2 div.sk-container {\n",
       "  /* jupyter's `normalize.less` sets `[hidden] { display: none; }`\n",
       "     but bootstrap.min.css set `[hidden] { display: none !important; }`\n",
       "     so we also need the `!important` here to be able to override the\n",
       "     default hidden behavior on the sphinx rendered scikit-learn.org.\n",
       "     See: https://github.com/scikit-learn/scikit-learn/issues/21755 */\n",
       "  display: inline-block !important;\n",
       "  position: relative;\n",
       "}\n",
       "\n",
       "#sk-container-id-2 div.sk-text-repr-fallback {\n",
       "  display: none;\n",
       "}\n",
       "\n",
       "div.sk-parallel-item,\n",
       "div.sk-serial,\n",
       "div.sk-item {\n",
       "  /* draw centered vertical line to link estimators */\n",
       "  background-image: linear-gradient(var(--sklearn-color-text-on-default-background), var(--sklearn-color-text-on-default-background));\n",
       "  background-size: 2px 100%;\n",
       "  background-repeat: no-repeat;\n",
       "  background-position: center center;\n",
       "}\n",
       "\n",
       "/* Parallel-specific style estimator block */\n",
       "\n",
       "#sk-container-id-2 div.sk-parallel-item::after {\n",
       "  content: \"\";\n",
       "  width: 100%;\n",
       "  border-bottom: 2px solid var(--sklearn-color-text-on-default-background);\n",
       "  flex-grow: 1;\n",
       "}\n",
       "\n",
       "#sk-container-id-2 div.sk-parallel {\n",
       "  display: flex;\n",
       "  align-items: stretch;\n",
       "  justify-content: center;\n",
       "  background-color: var(--sklearn-color-background);\n",
       "  position: relative;\n",
       "}\n",
       "\n",
       "#sk-container-id-2 div.sk-parallel-item {\n",
       "  display: flex;\n",
       "  flex-direction: column;\n",
       "}\n",
       "\n",
       "#sk-container-id-2 div.sk-parallel-item:first-child::after {\n",
       "  align-self: flex-end;\n",
       "  width: 50%;\n",
       "}\n",
       "\n",
       "#sk-container-id-2 div.sk-parallel-item:last-child::after {\n",
       "  align-self: flex-start;\n",
       "  width: 50%;\n",
       "}\n",
       "\n",
       "#sk-container-id-2 div.sk-parallel-item:only-child::after {\n",
       "  width: 0;\n",
       "}\n",
       "\n",
       "/* Serial-specific style estimator block */\n",
       "\n",
       "#sk-container-id-2 div.sk-serial {\n",
       "  display: flex;\n",
       "  flex-direction: column;\n",
       "  align-items: center;\n",
       "  background-color: var(--sklearn-color-background);\n",
       "  padding-right: 1em;\n",
       "  padding-left: 1em;\n",
       "}\n",
       "\n",
       "\n",
       "/* Toggleable style: style used for estimator/Pipeline/ColumnTransformer box that is\n",
       "clickable and can be expanded/collapsed.\n",
       "- Pipeline and ColumnTransformer use this feature and define the default style\n",
       "- Estimators will overwrite some part of the style using the `sk-estimator` class\n",
       "*/\n",
       "\n",
       "/* Pipeline and ColumnTransformer style (default) */\n",
       "\n",
       "#sk-container-id-2 div.sk-toggleable {\n",
       "  /* Default theme specific background. It is overwritten whether we have a\n",
       "  specific estimator or a Pipeline/ColumnTransformer */\n",
       "  background-color: var(--sklearn-color-background);\n",
       "}\n",
       "\n",
       "/* Toggleable label */\n",
       "#sk-container-id-2 label.sk-toggleable__label {\n",
       "  cursor: pointer;\n",
       "  display: flex;\n",
       "  width: 100%;\n",
       "  margin-bottom: 0;\n",
       "  padding: 0.5em;\n",
       "  box-sizing: border-box;\n",
       "  text-align: center;\n",
       "  align-items: start;\n",
       "  justify-content: space-between;\n",
       "  gap: 0.5em;\n",
       "}\n",
       "\n",
       "#sk-container-id-2 label.sk-toggleable__label .caption {\n",
       "  font-size: 0.6rem;\n",
       "  font-weight: lighter;\n",
       "  color: var(--sklearn-color-text-muted);\n",
       "}\n",
       "\n",
       "#sk-container-id-2 label.sk-toggleable__label-arrow:before {\n",
       "  /* Arrow on the left of the label */\n",
       "  content: \"▸\";\n",
       "  float: left;\n",
       "  margin-right: 0.25em;\n",
       "  color: var(--sklearn-color-icon);\n",
       "}\n",
       "\n",
       "#sk-container-id-2 label.sk-toggleable__label-arrow:hover:before {\n",
       "  color: var(--sklearn-color-text);\n",
       "}\n",
       "\n",
       "/* Toggleable content - dropdown */\n",
       "\n",
       "#sk-container-id-2 div.sk-toggleable__content {\n",
       "  max-height: 0;\n",
       "  max-width: 0;\n",
       "  overflow: hidden;\n",
       "  text-align: left;\n",
       "  /* unfitted */\n",
       "  background-color: var(--sklearn-color-unfitted-level-0);\n",
       "}\n",
       "\n",
       "#sk-container-id-2 div.sk-toggleable__content.fitted {\n",
       "  /* fitted */\n",
       "  background-color: var(--sklearn-color-fitted-level-0);\n",
       "}\n",
       "\n",
       "#sk-container-id-2 div.sk-toggleable__content pre {\n",
       "  margin: 0.2em;\n",
       "  border-radius: 0.25em;\n",
       "  color: var(--sklearn-color-text);\n",
       "  /* unfitted */\n",
       "  background-color: var(--sklearn-color-unfitted-level-0);\n",
       "}\n",
       "\n",
       "#sk-container-id-2 div.sk-toggleable__content.fitted pre {\n",
       "  /* unfitted */\n",
       "  background-color: var(--sklearn-color-fitted-level-0);\n",
       "}\n",
       "\n",
       "#sk-container-id-2 input.sk-toggleable__control:checked~div.sk-toggleable__content {\n",
       "  /* Expand drop-down */\n",
       "  max-height: 200px;\n",
       "  max-width: 100%;\n",
       "  overflow: auto;\n",
       "}\n",
       "\n",
       "#sk-container-id-2 input.sk-toggleable__control:checked~label.sk-toggleable__label-arrow:before {\n",
       "  content: \"▾\";\n",
       "}\n",
       "\n",
       "/* Pipeline/ColumnTransformer-specific style */\n",
       "\n",
       "#sk-container-id-2 div.sk-label input.sk-toggleable__control:checked~label.sk-toggleable__label {\n",
       "  color: var(--sklearn-color-text);\n",
       "  background-color: var(--sklearn-color-unfitted-level-2);\n",
       "}\n",
       "\n",
       "#sk-container-id-2 div.sk-label.fitted input.sk-toggleable__control:checked~label.sk-toggleable__label {\n",
       "  background-color: var(--sklearn-color-fitted-level-2);\n",
       "}\n",
       "\n",
       "/* Estimator-specific style */\n",
       "\n",
       "/* Colorize estimator box */\n",
       "#sk-container-id-2 div.sk-estimator input.sk-toggleable__control:checked~label.sk-toggleable__label {\n",
       "  /* unfitted */\n",
       "  background-color: var(--sklearn-color-unfitted-level-2);\n",
       "}\n",
       "\n",
       "#sk-container-id-2 div.sk-estimator.fitted input.sk-toggleable__control:checked~label.sk-toggleable__label {\n",
       "  /* fitted */\n",
       "  background-color: var(--sklearn-color-fitted-level-2);\n",
       "}\n",
       "\n",
       "#sk-container-id-2 div.sk-label label.sk-toggleable__label,\n",
       "#sk-container-id-2 div.sk-label label {\n",
       "  /* The background is the default theme color */\n",
       "  color: var(--sklearn-color-text-on-default-background);\n",
       "}\n",
       "\n",
       "/* On hover, darken the color of the background */\n",
       "#sk-container-id-2 div.sk-label:hover label.sk-toggleable__label {\n",
       "  color: var(--sklearn-color-text);\n",
       "  background-color: var(--sklearn-color-unfitted-level-2);\n",
       "}\n",
       "\n",
       "/* Label box, darken color on hover, fitted */\n",
       "#sk-container-id-2 div.sk-label.fitted:hover label.sk-toggleable__label.fitted {\n",
       "  color: var(--sklearn-color-text);\n",
       "  background-color: var(--sklearn-color-fitted-level-2);\n",
       "}\n",
       "\n",
       "/* Estimator label */\n",
       "\n",
       "#sk-container-id-2 div.sk-label label {\n",
       "  font-family: monospace;\n",
       "  font-weight: bold;\n",
       "  display: inline-block;\n",
       "  line-height: 1.2em;\n",
       "}\n",
       "\n",
       "#sk-container-id-2 div.sk-label-container {\n",
       "  text-align: center;\n",
       "}\n",
       "\n",
       "/* Estimator-specific */\n",
       "#sk-container-id-2 div.sk-estimator {\n",
       "  font-family: monospace;\n",
       "  border: 1px dotted var(--sklearn-color-border-box);\n",
       "  border-radius: 0.25em;\n",
       "  box-sizing: border-box;\n",
       "  margin-bottom: 0.5em;\n",
       "  /* unfitted */\n",
       "  background-color: var(--sklearn-color-unfitted-level-0);\n",
       "}\n",
       "\n",
       "#sk-container-id-2 div.sk-estimator.fitted {\n",
       "  /* fitted */\n",
       "  background-color: var(--sklearn-color-fitted-level-0);\n",
       "}\n",
       "\n",
       "/* on hover */\n",
       "#sk-container-id-2 div.sk-estimator:hover {\n",
       "  /* unfitted */\n",
       "  background-color: var(--sklearn-color-unfitted-level-2);\n",
       "}\n",
       "\n",
       "#sk-container-id-2 div.sk-estimator.fitted:hover {\n",
       "  /* fitted */\n",
       "  background-color: var(--sklearn-color-fitted-level-2);\n",
       "}\n",
       "\n",
       "/* Specification for estimator info (e.g. \"i\" and \"?\") */\n",
       "\n",
       "/* Common style for \"i\" and \"?\" */\n",
       "\n",
       ".sk-estimator-doc-link,\n",
       "a:link.sk-estimator-doc-link,\n",
       "a:visited.sk-estimator-doc-link {\n",
       "  float: right;\n",
       "  font-size: smaller;\n",
       "  line-height: 1em;\n",
       "  font-family: monospace;\n",
       "  background-color: var(--sklearn-color-background);\n",
       "  border-radius: 1em;\n",
       "  height: 1em;\n",
       "  width: 1em;\n",
       "  text-decoration: none !important;\n",
       "  margin-left: 0.5em;\n",
       "  text-align: center;\n",
       "  /* unfitted */\n",
       "  border: var(--sklearn-color-unfitted-level-1) 1pt solid;\n",
       "  color: var(--sklearn-color-unfitted-level-1);\n",
       "}\n",
       "\n",
       ".sk-estimator-doc-link.fitted,\n",
       "a:link.sk-estimator-doc-link.fitted,\n",
       "a:visited.sk-estimator-doc-link.fitted {\n",
       "  /* fitted */\n",
       "  border: var(--sklearn-color-fitted-level-1) 1pt solid;\n",
       "  color: var(--sklearn-color-fitted-level-1);\n",
       "}\n",
       "\n",
       "/* On hover */\n",
       "div.sk-estimator:hover .sk-estimator-doc-link:hover,\n",
       ".sk-estimator-doc-link:hover,\n",
       "div.sk-label-container:hover .sk-estimator-doc-link:hover,\n",
       ".sk-estimator-doc-link:hover {\n",
       "  /* unfitted */\n",
       "  background-color: var(--sklearn-color-unfitted-level-3);\n",
       "  color: var(--sklearn-color-background);\n",
       "  text-decoration: none;\n",
       "}\n",
       "\n",
       "div.sk-estimator.fitted:hover .sk-estimator-doc-link.fitted:hover,\n",
       ".sk-estimator-doc-link.fitted:hover,\n",
       "div.sk-label-container:hover .sk-estimator-doc-link.fitted:hover,\n",
       ".sk-estimator-doc-link.fitted:hover {\n",
       "  /* fitted */\n",
       "  background-color: var(--sklearn-color-fitted-level-3);\n",
       "  color: var(--sklearn-color-background);\n",
       "  text-decoration: none;\n",
       "}\n",
       "\n",
       "/* Span, style for the box shown on hovering the info icon */\n",
       ".sk-estimator-doc-link span {\n",
       "  display: none;\n",
       "  z-index: 9999;\n",
       "  position: relative;\n",
       "  font-weight: normal;\n",
       "  right: .2ex;\n",
       "  padding: .5ex;\n",
       "  margin: .5ex;\n",
       "  width: min-content;\n",
       "  min-width: 20ex;\n",
       "  max-width: 50ex;\n",
       "  color: var(--sklearn-color-text);\n",
       "  box-shadow: 2pt 2pt 4pt #999;\n",
       "  /* unfitted */\n",
       "  background: var(--sklearn-color-unfitted-level-0);\n",
       "  border: .5pt solid var(--sklearn-color-unfitted-level-3);\n",
       "}\n",
       "\n",
       ".sk-estimator-doc-link.fitted span {\n",
       "  /* fitted */\n",
       "  background: var(--sklearn-color-fitted-level-0);\n",
       "  border: var(--sklearn-color-fitted-level-3);\n",
       "}\n",
       "\n",
       ".sk-estimator-doc-link:hover span {\n",
       "  display: block;\n",
       "}\n",
       "\n",
       "/* \"?\"-specific style due to the `<a>` HTML tag */\n",
       "\n",
       "#sk-container-id-2 a.estimator_doc_link {\n",
       "  float: right;\n",
       "  font-size: 1rem;\n",
       "  line-height: 1em;\n",
       "  font-family: monospace;\n",
       "  background-color: var(--sklearn-color-background);\n",
       "  border-radius: 1rem;\n",
       "  height: 1rem;\n",
       "  width: 1rem;\n",
       "  text-decoration: none;\n",
       "  /* unfitted */\n",
       "  color: var(--sklearn-color-unfitted-level-1);\n",
       "  border: var(--sklearn-color-unfitted-level-1) 1pt solid;\n",
       "}\n",
       "\n",
       "#sk-container-id-2 a.estimator_doc_link.fitted {\n",
       "  /* fitted */\n",
       "  border: var(--sklearn-color-fitted-level-1) 1pt solid;\n",
       "  color: var(--sklearn-color-fitted-level-1);\n",
       "}\n",
       "\n",
       "/* On hover */\n",
       "#sk-container-id-2 a.estimator_doc_link:hover {\n",
       "  /* unfitted */\n",
       "  background-color: var(--sklearn-color-unfitted-level-3);\n",
       "  color: var(--sklearn-color-background);\n",
       "  text-decoration: none;\n",
       "}\n",
       "\n",
       "#sk-container-id-2 a.estimator_doc_link.fitted:hover {\n",
       "  /* fitted */\n",
       "  background-color: var(--sklearn-color-fitted-level-3);\n",
       "}\n",
       "</style><div id=\"sk-container-id-2\" class=\"sk-top-container\"><div class=\"sk-text-repr-fallback\"><pre>Pipeline(steps=[(&#x27;preprocessor&#x27;,\n",
       "                 ColumnTransformer(transformers=[(&#x27;scale&#x27;, StandardScaler(),\n",
       "                                                  [&#x27;pit_stop_rate&#x27;,\n",
       "                                                   &#x27;rolling_avg_lap_time_3&#x27;,\n",
       "                                                   &#x27;lap_time_cv_3&#x27;,\n",
       "                                                   &#x27;qualifying_avg_sec&#x27;,\n",
       "                                                   &#x27;qualifying_delta&#x27;,\n",
       "                                                   &#x27;rolling_fatigue_score&#x27;]),\n",
       "                                                 (&#x27;keep&#x27;, &#x27;passthrough&#x27;,\n",
       "                                                  [&#x27;lap_percent&#x27;,\n",
       "                                                   &#x27;position_gain&#x27;,\n",
       "                                                   &#x27;position_change_rate_3&#x27;])])),\n",
       "                (&#x27;classifier&#x27;, LogisticRegression(solver=&#x27;liblinear&#x27;))])</pre><b>In a Jupyter environment, please rerun this cell to show the HTML representation or trust the notebook. <br />On GitHub, the HTML representation is unable to render, please try loading this page with nbviewer.org.</b></div><div class=\"sk-container\" hidden><div class=\"sk-item sk-dashed-wrapped\"><div class=\"sk-label-container\"><div class=\"sk-label fitted sk-toggleable\"><input class=\"sk-toggleable__control sk-hidden--visually\" id=\"sk-estimator-id-8\" type=\"checkbox\" ><label for=\"sk-estimator-id-8\" class=\"sk-toggleable__label fitted sk-toggleable__label-arrow\"><div><div>Pipeline</div></div><div><a class=\"sk-estimator-doc-link fitted\" rel=\"noreferrer\" target=\"_blank\" href=\"https://scikit-learn.org/1.6/modules/generated/sklearn.pipeline.Pipeline.html\">?<span>Documentation for Pipeline</span></a><span class=\"sk-estimator-doc-link fitted\">i<span>Fitted</span></span></div></label><div class=\"sk-toggleable__content fitted\"><pre>Pipeline(steps=[(&#x27;preprocessor&#x27;,\n",
       "                 ColumnTransformer(transformers=[(&#x27;scale&#x27;, StandardScaler(),\n",
       "                                                  [&#x27;pit_stop_rate&#x27;,\n",
       "                                                   &#x27;rolling_avg_lap_time_3&#x27;,\n",
       "                                                   &#x27;lap_time_cv_3&#x27;,\n",
       "                                                   &#x27;qualifying_avg_sec&#x27;,\n",
       "                                                   &#x27;qualifying_delta&#x27;,\n",
       "                                                   &#x27;rolling_fatigue_score&#x27;]),\n",
       "                                                 (&#x27;keep&#x27;, &#x27;passthrough&#x27;,\n",
       "                                                  [&#x27;lap_percent&#x27;,\n",
       "                                                   &#x27;position_gain&#x27;,\n",
       "                                                   &#x27;position_change_rate_3&#x27;])])),\n",
       "                (&#x27;classifier&#x27;, LogisticRegression(solver=&#x27;liblinear&#x27;))])</pre></div> </div></div><div class=\"sk-serial\"><div class=\"sk-item sk-dashed-wrapped\"><div class=\"sk-label-container\"><div class=\"sk-label fitted sk-toggleable\"><input class=\"sk-toggleable__control sk-hidden--visually\" id=\"sk-estimator-id-9\" type=\"checkbox\" ><label for=\"sk-estimator-id-9\" class=\"sk-toggleable__label fitted sk-toggleable__label-arrow\"><div><div>preprocessor: ColumnTransformer</div></div><div><a class=\"sk-estimator-doc-link fitted\" rel=\"noreferrer\" target=\"_blank\" href=\"https://scikit-learn.org/1.6/modules/generated/sklearn.compose.ColumnTransformer.html\">?<span>Documentation for preprocessor: ColumnTransformer</span></a></div></label><div class=\"sk-toggleable__content fitted\"><pre>ColumnTransformer(transformers=[(&#x27;scale&#x27;, StandardScaler(),\n",
       "                                 [&#x27;pit_stop_rate&#x27;, &#x27;rolling_avg_lap_time_3&#x27;,\n",
       "                                  &#x27;lap_time_cv_3&#x27;, &#x27;qualifying_avg_sec&#x27;,\n",
       "                                  &#x27;qualifying_delta&#x27;,\n",
       "                                  &#x27;rolling_fatigue_score&#x27;]),\n",
       "                                (&#x27;keep&#x27;, &#x27;passthrough&#x27;,\n",
       "                                 [&#x27;lap_percent&#x27;, &#x27;position_gain&#x27;,\n",
       "                                  &#x27;position_change_rate_3&#x27;])])</pre></div> </div></div><div class=\"sk-parallel\"><div class=\"sk-parallel-item\"><div class=\"sk-item\"><div class=\"sk-label-container\"><div class=\"sk-label fitted sk-toggleable\"><input class=\"sk-toggleable__control sk-hidden--visually\" id=\"sk-estimator-id-10\" type=\"checkbox\" ><label for=\"sk-estimator-id-10\" class=\"sk-toggleable__label fitted sk-toggleable__label-arrow\"><div><div>scale</div></div></label><div class=\"sk-toggleable__content fitted\"><pre>[&#x27;pit_stop_rate&#x27;, &#x27;rolling_avg_lap_time_3&#x27;, &#x27;lap_time_cv_3&#x27;, &#x27;qualifying_avg_sec&#x27;, &#x27;qualifying_delta&#x27;, &#x27;rolling_fatigue_score&#x27;]</pre></div> </div></div><div class=\"sk-serial\"><div class=\"sk-item\"><div class=\"sk-estimator fitted sk-toggleable\"><input class=\"sk-toggleable__control sk-hidden--visually\" id=\"sk-estimator-id-11\" type=\"checkbox\" ><label for=\"sk-estimator-id-11\" class=\"sk-toggleable__label fitted sk-toggleable__label-arrow\"><div><div>StandardScaler</div></div><div><a class=\"sk-estimator-doc-link fitted\" rel=\"noreferrer\" target=\"_blank\" href=\"https://scikit-learn.org/1.6/modules/generated/sklearn.preprocessing.StandardScaler.html\">?<span>Documentation for StandardScaler</span></a></div></label><div class=\"sk-toggleable__content fitted\"><pre>StandardScaler()</pre></div> </div></div></div></div></div><div class=\"sk-parallel-item\"><div class=\"sk-item\"><div class=\"sk-label-container\"><div class=\"sk-label fitted sk-toggleable\"><input class=\"sk-toggleable__control sk-hidden--visually\" id=\"sk-estimator-id-12\" type=\"checkbox\" ><label for=\"sk-estimator-id-12\" class=\"sk-toggleable__label fitted sk-toggleable__label-arrow\"><div><div>keep</div></div></label><div class=\"sk-toggleable__content fitted\"><pre>[&#x27;lap_percent&#x27;, &#x27;position_gain&#x27;, &#x27;position_change_rate_3&#x27;]</pre></div> </div></div><div class=\"sk-serial\"><div class=\"sk-item\"><div class=\"sk-estimator fitted sk-toggleable\"><input class=\"sk-toggleable__control sk-hidden--visually\" id=\"sk-estimator-id-13\" type=\"checkbox\" ><label for=\"sk-estimator-id-13\" class=\"sk-toggleable__label fitted sk-toggleable__label-arrow\"><div><div>passthrough</div></div></label><div class=\"sk-toggleable__content fitted\"><pre>passthrough</pre></div> </div></div></div></div></div></div></div><div class=\"sk-item\"><div class=\"sk-estimator fitted sk-toggleable\"><input class=\"sk-toggleable__control sk-hidden--visually\" id=\"sk-estimator-id-14\" type=\"checkbox\" ><label for=\"sk-estimator-id-14\" class=\"sk-toggleable__label fitted sk-toggleable__label-arrow\"><div><div>LogisticRegression</div></div><div><a class=\"sk-estimator-doc-link fitted\" rel=\"noreferrer\" target=\"_blank\" href=\"https://scikit-learn.org/1.6/modules/generated/sklearn.linear_model.LogisticRegression.html\">?<span>Documentation for LogisticRegression</span></a></div></label><div class=\"sk-toggleable__content fitted\"><pre>LogisticRegression(solver=&#x27;liblinear&#x27;)</pre></div> </div></div></div></div></div></div>"
      ],
      "text/plain": [
       "Pipeline(steps=[('preprocessor',\n",
       "                 ColumnTransformer(transformers=[('scale', StandardScaler(),\n",
       "                                                  ['pit_stop_rate',\n",
       "                                                   'rolling_avg_lap_time_3',\n",
       "                                                   'lap_time_cv_3',\n",
       "                                                   'qualifying_avg_sec',\n",
       "                                                   'qualifying_delta',\n",
       "                                                   'rolling_fatigue_score']),\n",
       "                                                 ('keep', 'passthrough',\n",
       "                                                  ['lap_percent',\n",
       "                                                   'position_gain',\n",
       "                                                   'position_change_rate_3'])])),\n",
       "                ('classifier', LogisticRegression(solver='liblinear'))])"
      ]
     },
     "execution_count": 27,
     "metadata": {},
     "output_type": "execute_result"
    }
   ],
   "source": [
    "pipeline.fit(X_train_smote, y_train_smote)"
   ]
  },
  {
   "cell_type": "markdown",
   "id": "15f6e192",
   "metadata": {},
   "source": [
    "#### **Performance Metrices:**"
   ]
  },
  {
   "cell_type": "code",
   "execution_count": 28,
   "id": "7b5037e3",
   "metadata": {},
   "outputs": [
    {
     "data": {
      "text/plain": [
       "0.5595480323823542"
      ]
     },
     "execution_count": 28,
     "metadata": {},
     "output_type": "execute_result"
    }
   ],
   "source": [
    "train_score = pipeline.score(X_train_smote, y_train_smote)\n",
    "train_score"
   ]
  },
  {
   "cell_type": "code",
   "execution_count": 29,
   "id": "e004cbda",
   "metadata": {},
   "outputs": [
    {
     "data": {
      "text/plain": [
       "0.5673653132216668"
      ]
     },
     "execution_count": 29,
     "metadata": {},
     "output_type": "execute_result"
    }
   ],
   "source": [
    "test_score = pipeline.score(X_test, y_test)\n",
    "test_score"
   ]
  },
  {
   "cell_type": "code",
   "execution_count": 30,
   "id": "99bb6530",
   "metadata": {},
   "outputs": [],
   "source": [
    "y_train_pred = pipeline.predict(X_train_smote)\n",
    "y_test_pred = pipeline.predict(X_test)"
   ]
  },
  {
   "cell_type": "code",
   "execution_count": 31,
   "id": "aa071633",
   "metadata": {},
   "outputs": [
    {
     "name": "stdout",
     "output_type": "stream",
     "text": [
      "Classification Report Train Set:\n",
      "               precision    recall  f1-score   support\n",
      "\n",
      "           0       0.56      0.58      0.57     46198\n",
      "           1       0.56      0.54      0.55     46198\n",
      "\n",
      "    accuracy                           0.56     92396\n",
      "   macro avg       0.56      0.56      0.56     92396\n",
      "weighted avg       0.56      0.56      0.56     92396\n",
      "\n"
     ]
    }
   ],
   "source": [
    "print(\"Classification Report Train Set:\\n\", classification_report(y_train_smote, y_train_pred))"
   ]
  },
  {
   "cell_type": "code",
   "execution_count": 32,
   "id": "39d7fd0f",
   "metadata": {},
   "outputs": [
    {
     "name": "stdout",
     "output_type": "stream",
     "text": [
      "Classification Report Test Set:\n",
      "               precision    recall  f1-score   support\n",
      "\n",
      "           0       0.72      0.58      0.64     22755\n",
      "           1       0.39      0.55      0.46     11454\n",
      "\n",
      "    accuracy                           0.57     34209\n",
      "   macro avg       0.56      0.56      0.55     34209\n",
      "weighted avg       0.61      0.57      0.58     34209\n",
      "\n"
     ]
    }
   ],
   "source": [
    "print(\"Classification Report Test Set:\\n\", classification_report(y_test, y_test_pred))"
   ]
  },
  {
   "cell_type": "code",
   "execution_count": 33,
   "id": "5816a054",
   "metadata": {},
   "outputs": [],
   "source": [
    "\n",
    "\n",
    "def plot_roc_curve(model, X_test, y_test):\n",
    "    \"\"\"\n",
    "    Plots the ROC-AUC curve for a given model and test set.\n",
    "    \n",
    "    Args:\n",
    "        model: Trained model (must have predict_proba method).\n",
    "        X_test: Features of test set.\n",
    "        y_test: True labels of test set.\n",
    "    \"\"\"\n",
    "    # Predict probabilities\n",
    "    if hasattr(model, \"predict_proba\"):\n",
    "        y_pred_proba = model.predict_proba(X_test)[:, 1]\n",
    "    else:\n",
    "        raise ValueError(\"Model does not support probability prediction.\")\n",
    "\n",
    "    # Calculate ROC curve\n",
    "    fpr, tpr, thresholds = roc_curve(y_test, y_pred_proba)\n",
    "    auc_score = roc_auc_score(y_test, y_pred_proba)\n",
    "    \n",
    "    # Plot\n",
    "    plt.figure(figsize=(5, 4))\n",
    "    plt.plot(fpr, tpr, label=f\"AUC = {auc_score:.4f}\")\n",
    "    plt.plot([0, 1], [0, 1], 'k--', label=\"Random Classifier\")\n",
    "    plt.xlim([-0.01, 1.01])\n",
    "    plt.ylim([-0.01, 1.01])\n",
    "    plt.xlabel('False Positive Rate (FPR)')\n",
    "    plt.ylabel('True Positive Rate (TPR)')\n",
    "    plt.title('ROC-AUC Curve')\n",
    "    plt.legend(loc=\"lower right\")\n",
    "    plt.grid()\n",
    "    plt.show()"
   ]
  },
  {
   "cell_type": "code",
   "execution_count": 34,
   "id": "381f4bb1",
   "metadata": {},
   "outputs": [
    {
     "data": {
      "image/png": "[encoded data removed]",
      "text/plain": [
       "<Figure size 500x400 with 1 Axes>"
      ]
     },
     "metadata": {},
     "output_type": "display_data"
    }
   ],
   "source": [
    "plot_roc_curve(pipeline, X_train_smote, y_train_smote)"
   ]
  },
  {
   "cell_type": "code",
   "execution_count": 35,
   "id": "13db413c",
   "metadata": {},
   "outputs": [
    {
     "data": {
      "image/png": "[encoded data removed]",
      "text/plain": [
       "<Figure size 500x400 with 1 Axes>"
      ]
     },
     "metadata": {},
     "output_type": "display_data"
    }
   ],
   "source": [
    "plot_roc_curve(pipeline, X_test, y_test)"
   ]
  },
  {
   "cell_type": "markdown",
   "id": "a0add61f",
   "metadata": {},
   "source": [
    "#### **Hyper parameters Tuning:**"
   ]
  },
  {
   "cell_type": "code",
   "execution_count": 49,
   "id": "bc956a6d",
   "metadata": {},
   "outputs": [],
   "source": [
    "import warnings\n",
    "warnings.filterwarnings('ignore')"
   ]
  },
  {
   "cell_type": "code",
   "execution_count": 37,
   "id": "861c7d31",
   "metadata": {},
   "outputs": [],
   "source": [
    "import optuna"
   ]
  },
  {
   "cell_type": "code",
   "execution_count": null,
   "id": "9fda09da",
   "metadata": {},
   "outputs": [],
   "source": [
    "def objective(trial):\n",
    "    # Valid (solver, penalty) pairs — use None instead of \"none\"\n",
    "    solver_penalty_options = [\n",
    "        (\"liblinear\", \"l1\"),\n",
    "        (\"liblinear\", \"l2\"),\n",
    "        (\"lbfgs\", \"l2\"),\n",
    "        (\"lbfgs\", None),           \n",
    "        (\"saga\", \"l1\"),\n",
    "        (\"saga\", \"l2\"),\n",
    "        (\"saga\", \"elasticnet\"),\n",
    "        (\"saga\", None)              \n",
    "    ]\n",
    "\n",
    "    solver, penalty = trial.suggest_categorical(\"solver_penalty\", solver_penalty_options)\n",
    "\n",
    "    # Regularization strength\n",
    "    C = trial.suggest_loguniform(\"C\", 1e-4, 1e2)\n",
    "\n",
    "    # l1_ratio only when using ElasticNet\n",
    "    l1_ratio = None\n",
    "    if penalty == \"elasticnet\":\n",
    "        l1_ratio = trial.suggest_float(\"l1_ratio\", 0.0, 1.0)\n",
    "\n",
    "    max_iter = trial.suggest_int(\"max_iter\", 50, 500)\n",
    "    fit_intercept = trial.suggest_categorical(\"fit_intercept\", [True, False])\n",
    "    class_weight = trial.suggest_categorical(\"class_weight\", [None, \"balanced\"])\n",
    "    tol = trial.suggest_float(\"tol\", 1e-6, 1e-2)\n",
    "\n",
    "    # Logistic Regression\n",
    "    lr_model = LogisticRegression(\n",
    "        solver=solver,\n",
    "        penalty=penalty,\n",
    "        C=C,\n",
    "        l1_ratio=l1_ratio,\n",
    "        max_iter=max_iter,\n",
    "        fit_intercept=fit_intercept,\n",
    "        class_weight=class_weight,\n",
    "        tol=tol,\n",
    "        random_state=47\n",
    "    )\n",
    "\n",
    "    pipeline = Pipeline([\n",
    "        ('preprocessor', preprocessor),\n",
    "        ('classifier', lr_model)\n",
    "    ])\n",
    "\n",
    "    scores = cross_val_score(pipeline, X_train_smote, y_train_smote, cv=5, scoring=\"roc_auc\")\n",
    "    return scores.mean()"
   ]
  },
  {
   "cell_type": "code",
   "execution_count": 51,
   "id": "d13e06ce",
   "metadata": {},
   "outputs": [
    {
     "name": "stderr",
     "output_type": "stream",
     "text": [
      "[I 2025-05-03 23:10:26,262] A new study created in memory with name: no-name-cf8be747-1981-4d16-94d5-35296e9a5207\n",
      "[I 2025-05-03 23:10:27,457] Trial 0 finished with value: 0.5790919846736652 and parameters: {'solver_penalty': ('saga', 'elasticnet'), 'C': 0.001048946362516086, 'l1_ratio': 0.20869292269901274, 'max_iter': 349, 'fit_intercept': True, 'class_weight': 'balanced', 'tol': 0.001709694369515668}. Best is trial 0 with value: 0.5790919846736652.\n",
      "[I 2025-05-03 23:10:27,917] Trial 1 finished with value: 0.5763229059679966 and parameters: {'solver_penalty': ('liblinear', 'l2'), 'C': 0.000230292299803891, 'max_iter': 395, 'fit_intercept': True, 'class_weight': 'balanced', 'tol': 0.007081181958172594}. Best is trial 0 with value: 0.5790919846736652.\n",
      "[I 2025-05-03 23:10:28,221] Trial 2 finished with value: 0.5802661678621266 and parameters: {'solver_penalty': ('lbfgs', None), 'C': 0.0007103216184190514, 'max_iter': 370, 'fit_intercept': False, 'class_weight': None, 'tol': 0.005210228439185128}. Best is trial 2 with value: 0.5802661678621266.\n",
      "[I 2025-05-03 23:10:29,335] Trial 3 finished with value: 0.5789591023297784 and parameters: {'solver_penalty': ('saga', 'l1'), 'C': 0.07408235929691752, 'max_iter': 211, 'fit_intercept': True, 'class_weight': 'balanced', 'tol': 0.0027634707602130493}. Best is trial 2 with value: 0.5802661678621266.\n",
      "[I 2025-05-03 23:10:30,107] Trial 4 finished with value: 0.578788356882271 and parameters: {'solver_penalty': ('saga', None), 'C': 73.60430554567004, 'max_iter': 449, 'fit_intercept': True, 'class_weight': None, 'tol': 0.008641210505392953}. Best is trial 2 with value: 0.5802661678621266.\n",
      "[I 2025-05-03 23:10:30,606] Trial 5 finished with value: 0.5788227683170101 and parameters: {'solver_penalty': ('liblinear', 'l1'), 'C': 0.25752986143049034, 'max_iter': 168, 'fit_intercept': True, 'class_weight': 'balanced', 'tol': 0.007752559664898436}. Best is trial 2 with value: 0.5802661678621266.\n",
      "[I 2025-05-03 23:10:31,841] Trial 6 finished with value: 0.5673476384369565 and parameters: {'solver_penalty': ('saga', 'l1'), 'C': 0.0005314802865091697, 'max_iter': 84, 'fit_intercept': True, 'class_weight': 'balanced', 'tol': 0.0010397724179737778}. Best is trial 2 with value: 0.5802661678621266.\n",
      "[I 2025-05-03 23:10:32,300] Trial 7 finished with value: 0.5785466520787119 and parameters: {'solver_penalty': ('liblinear', 'l2'), 'C': 12.638224544778119, 'max_iter': 361, 'fit_intercept': False, 'class_weight': None, 'tol': 0.001448244475777964}. Best is trial 2 with value: 0.5802661678621266.\n",
      "[I 2025-05-03 23:10:33,479] Trial 8 finished with value: 0.5680187640206376 and parameters: {'solver_penalty': ('saga', 'elasticnet'), 'C': 0.0003138899932284843, 'l1_ratio': 0.5554191629690274, 'max_iter': 420, 'fit_intercept': False, 'class_weight': 'balanced', 'tol': 0.0009435087599927362}. Best is trial 2 with value: 0.5802661678621266.\n",
      "[I 2025-05-03 23:10:33,950] Trial 9 finished with value: 0.5741745280314414 and parameters: {'solver_penalty': ('liblinear', 'l2'), 'C': 0.00012912468024606476, 'max_iter': 360, 'fit_intercept': True, 'class_weight': 'balanced', 'tol': 0.004742117608341034}. Best is trial 2 with value: 0.5802661678621266.\n",
      "[I 2025-05-03 23:10:34,261] Trial 10 finished with value: 0.5802661678621266 and parameters: {'solver_penalty': ('lbfgs', None), 'C': 0.013372020102748948, 'max_iter': 268, 'fit_intercept': False, 'class_weight': None, 'tol': 0.004910176583588947}. Best is trial 2 with value: 0.5802661678621266.\n",
      "[I 2025-05-03 23:10:34,580] Trial 11 finished with value: 0.5802661678621266 and parameters: {'solver_penalty': ('lbfgs', None), 'C': 0.015012641645794899, 'max_iter': 271, 'fit_intercept': False, 'class_weight': None, 'tol': 0.00525515645062218}. Best is trial 2 with value: 0.5802661678621266.\n",
      "[I 2025-05-03 23:10:34,892] Trial 12 finished with value: 0.5802661678621266 and parameters: {'solver_penalty': ('lbfgs', None), 'C': 0.007301187903620194, 'max_iter': 288, 'fit_intercept': False, 'class_weight': None, 'tol': 0.004959040552570359}. Best is trial 2 with value: 0.5802661678621266.\n",
      "[I 2025-05-03 23:10:35,202] Trial 13 finished with value: 0.5802653642983971 and parameters: {'solver_penalty': ('lbfgs', 'l2'), 'C': 0.8491519551626676, 'max_iter': 277, 'fit_intercept': False, 'class_weight': None, 'tol': 0.0033350941159343726}. Best is trial 2 with value: 0.5802661678621266.\n",
      "[I 2025-05-03 23:10:35,508] Trial 14 finished with value: 0.5804254446714738 and parameters: {'solver_penalty': ('lbfgs', None), 'C': 0.00396298897557411, 'max_iter': 485, 'fit_intercept': False, 'class_weight': None, 'tol': 0.006330895621316747}. Best is trial 14 with value: 0.5804254446714738.\n",
      "[I 2025-05-03 23:10:36,294] Trial 15 finished with value: 0.578559931119 and parameters: {'solver_penalty': ('saga', 'l2'), 'C': 0.0028564915255867135, 'max_iter': 500, 'fit_intercept': False, 'class_weight': None, 'tol': 0.006347161084016786}. Best is trial 14 with value: 0.5804254446714738.\n",
      "[I 2025-05-03 23:10:36,597] Trial 16 finished with value: 0.5807639658753484 and parameters: {'solver_penalty': ('lbfgs', None), 'C': 0.055170894772351, 'max_iter': 496, 'fit_intercept': False, 'class_weight': None, 'tol': 0.009749803215996247}. Best is trial 16 with value: 0.5807639658753484.\n",
      "[I 2025-05-03 23:10:36,901] Trial 17 finished with value: 0.5807639658753484 and parameters: {'solver_penalty': ('lbfgs', None), 'C': 0.05456329979579582, 'max_iter': 474, 'fit_intercept': False, 'class_weight': None, 'tol': 0.009482627835217803}. Best is trial 16 with value: 0.5807639658753484.\n",
      "[I 2025-05-03 23:10:37,625] Trial 18 finished with value: 0.5786117327258846 and parameters: {'solver_penalty': ('saga', None), 'C': 1.698117577312254, 'max_iter': 445, 'fit_intercept': False, 'class_weight': None, 'tol': 0.009932763888384915}. Best is trial 16 with value: 0.5807639658753484.\n",
      "[I 2025-05-03 23:10:37,928] Trial 19 finished with value: 0.5807505044208426 and parameters: {'solver_penalty': ('lbfgs', 'l2'), 'C': 0.058846594854587354, 'max_iter': 465, 'fit_intercept': False, 'class_weight': None, 'tol': 0.009697919344501538}. Best is trial 16 with value: 0.5807639658753484.\n",
      "[I 2025-05-03 23:10:38,668] Trial 20 finished with value: 0.578629116145526 and parameters: {'solver_penalty': ('saga', 'l2'), 'C': 0.5287169969918871, 'max_iter': 72, 'fit_intercept': False, 'class_weight': None, 'tol': 0.008735058955698531}. Best is trial 16 with value: 0.5807639658753484.\n",
      "[I 2025-05-03 23:10:38,965] Trial 21 finished with value: 0.5808806603158725 and parameters: {'solver_penalty': ('lbfgs', 'l2'), 'C': 0.08569273288844227, 'max_iter': 471, 'fit_intercept': False, 'class_weight': None, 'tol': 0.00979815483975455}. Best is trial 21 with value: 0.5808806603158725.\n",
      "[I 2025-05-03 23:10:39,268] Trial 22 finished with value: 0.5805606473862264 and parameters: {'solver_penalty': ('lbfgs', 'l2'), 'C': 0.032861653444748215, 'max_iter': 430, 'fit_intercept': False, 'class_weight': None, 'tol': 0.008871539803826168}. Best is trial 21 with value: 0.5808806603158725.\n",
      "[I 2025-05-03 23:10:39,719] Trial 23 finished with value: 0.578741331661268 and parameters: {'solver_penalty': ('liblinear', 'l1'), 'C': 0.19859869483187256, 'max_iter': 415, 'fit_intercept': False, 'class_weight': None, 'tol': 0.007984788925239898}. Best is trial 21 with value: 0.5808806603158725.\n",
      "[I 2025-05-03 23:10:40,024] Trial 24 finished with value: 0.5808901953110951 and parameters: {'solver_penalty': ('lbfgs', 'l2'), 'C': 4.2980391945626755, 'max_iter': 496, 'fit_intercept': False, 'class_weight': None, 'tol': 0.009944192865810827}. Best is trial 24 with value: 0.5808901953110951.\n",
      "[I 2025-05-03 23:10:40,332] Trial 25 finished with value: 0.5804253626748954 and parameters: {'solver_penalty': ('lbfgs', 'l2'), 'C': 7.299518841143593, 'max_iter': 496, 'fit_intercept': False, 'class_weight': None, 'tol': 0.007754628192888394}. Best is trial 24 with value: 0.5808901953110951.\n",
      "[I 2025-05-03 23:10:40,635] Trial 26 finished with value: 0.5805824396128197 and parameters: {'solver_penalty': ('lbfgs', 'l2'), 'C': 1.586098418722122, 'max_iter': 395, 'fit_intercept': False, 'class_weight': None, 'tol': 0.009155093783627473}. Best is trial 24 with value: 0.5808901953110951.\n",
      "[I 2025-05-03 23:10:40,948] Trial 27 finished with value: 0.5804253509604466 and parameters: {'solver_penalty': ('lbfgs', 'l2'), 'C': 4.898855538237266, 'max_iter': 322, 'fit_intercept': False, 'class_weight': None, 'tol': 0.008413224758395496}. Best is trial 24 with value: 0.5808901953110951.\n",
      "[I 2025-05-03 23:10:41,248] Trial 28 finished with value: 0.5804254516993318 and parameters: {'solver_penalty': ('lbfgs', 'l2'), 'C': 70.38504054500913, 'max_iter': 447, 'fit_intercept': False, 'class_weight': None, 'tol': 0.006967959160950513}. Best is trial 24 with value: 0.5808901953110951.\n",
      "[I 2025-05-03 23:10:42,217] Trial 29 finished with value: 0.5786126159307268 and parameters: {'solver_penalty': ('saga', 'elasticnet'), 'C': 21.811172252829923, 'l1_ratio': 0.9964770389892228, 'max_iter': 318, 'fit_intercept': False, 'class_weight': None, 'tol': 0.00990469326973172}. Best is trial 24 with value: 0.5808901953110951.\n",
      "[I 2025-05-03 23:10:42,519] Trial 30 finished with value: 0.5805790730766581 and parameters: {'solver_penalty': ('lbfgs', 'l2'), 'C': 0.20989984685580126, 'max_iter': 204, 'fit_intercept': False, 'class_weight': None, 'tol': 0.009152862872977624}. Best is trial 24 with value: 0.5808901953110951.\n",
      "[I 2025-05-03 23:10:42,826] Trial 31 finished with value: 0.5807639658753484 and parameters: {'solver_penalty': ('lbfgs', None), 'C': 0.027458530106473727, 'max_iter': 470, 'fit_intercept': False, 'class_weight': None, 'tol': 0.009421307581359195}. Best is trial 24 with value: 0.5808901953110951.\n",
      "[I 2025-05-03 23:10:43,357] Trial 32 finished with value: 0.5785132560994712 and parameters: {'solver_penalty': ('lbfgs', None), 'C': 0.12312992687998867, 'max_iter': 466, 'fit_intercept': False, 'class_weight': None, 'tol': 0.00013168585164746466}. Best is trial 24 with value: 0.5808901953110951.\n",
      "[I 2025-05-03 23:10:43,658] Trial 33 finished with value: 0.5808904249053685 and parameters: {'solver_penalty': ('lbfgs', None), 'C': 0.0019767865000970934, 'max_iter': 385, 'fit_intercept': False, 'class_weight': None, 'tol': 0.009889747503964376}. Best is trial 33 with value: 0.5808904249053685.\n",
      "[I 2025-05-03 23:10:44,581] Trial 34 finished with value: 0.5799682882249415 and parameters: {'solver_penalty': ('saga', 'l1'), 'C': 0.003463080272751224, 'max_iter': 397, 'fit_intercept': True, 'class_weight': 'balanced', 'tol': 0.008291602682686878}. Best is trial 33 with value: 0.5808904249053685.\n",
      "[I 2025-05-03 23:10:45,431] Trial 35 finished with value: 0.5786117327258846 and parameters: {'solver_penalty': ('saga', None), 'C': 0.0017601625778841793, 'max_iter': 405, 'fit_intercept': False, 'class_weight': None, 'tol': 0.009983440287238328}. Best is trial 33 with value: 0.5808904249053685.\n",
      "[I 2025-05-03 23:10:45,762] Trial 36 finished with value: 0.5783608864301011 and parameters: {'solver_penalty': ('liblinear', 'l1'), 'C': 0.0009263363817518329, 'max_iter': 385, 'fit_intercept': True, 'class_weight': None, 'tol': 0.007411660196937186}. Best is trial 33 with value: 0.5808904249053685.\n",
      "[I 2025-05-03 23:10:46,125] Trial 37 finished with value: 0.5805829854746473 and parameters: {'solver_penalty': ('lbfgs', None), 'C': 0.4567196398276892, 'max_iter': 437, 'fit_intercept': False, 'class_weight': 'balanced', 'tol': 0.009135291852889417}. Best is trial 33 with value: 0.5808904249053685.\n",
      "[I 2025-05-03 23:10:46,955] Trial 38 finished with value: 0.5787799767092963 and parameters: {'solver_penalty': ('saga', 'l2'), 'C': 1.9879342801845779, 'max_iter': 335, 'fit_intercept': True, 'class_weight': None, 'tol': 0.00836257055454402}. Best is trial 33 with value: 0.5808904249053685.\n",
      "[I 2025-05-03 23:10:47,974] Trial 39 finished with value: 0.578544928641699 and parameters: {'solver_penalty': ('saga', 'elasticnet'), 'C': 0.019926169444542008, 'l1_ratio': 0.009368055769985006, 'max_iter': 498, 'fit_intercept': False, 'class_weight': 'balanced', 'tol': 0.006853830371588808}. Best is trial 33 with value: 0.5808904249053685.\n",
      "[I 2025-05-03 23:10:48,407] Trial 40 finished with value: 0.5786309167596668 and parameters: {'solver_penalty': ('liblinear', 'l2'), 'C': 0.007650445326201596, 'max_iter': 108, 'fit_intercept': False, 'class_weight': None, 'tol': 0.002745111397861963}. Best is trial 33 with value: 0.5808904249053685.\n",
      "[I 2025-05-03 23:10:48,708] Trial 41 finished with value: 0.5807639658753484 and parameters: {'solver_penalty': ('lbfgs', None), 'C': 0.07202278741628255, 'max_iter': 471, 'fit_intercept': False, 'class_weight': None, 'tol': 0.009573344641166697}. Best is trial 33 with value: 0.5808904249053685.\n",
      "[I 2025-05-03 23:10:49,011] Trial 42 finished with value: 0.5807639658753484 and parameters: {'solver_penalty': ('lbfgs', None), 'C': 0.03960293420415321, 'max_iter': 460, 'fit_intercept': False, 'class_weight': None, 'tol': 0.009348165529870231}. Best is trial 33 with value: 0.5808904249053685.\n",
      "[I 2025-05-03 23:10:49,322] Trial 43 finished with value: 0.5805830721578165 and parameters: {'solver_penalty': ('lbfgs', None), 'C': 0.00811604974115232, 'max_iter': 482, 'fit_intercept': False, 'class_weight': None, 'tol': 0.008843588642483684}. Best is trial 33 with value: 0.5808904249053685.\n",
      "[I 2025-05-03 23:10:50,188] Trial 44 finished with value: 0.5787329175138053 and parameters: {'solver_penalty': ('saga', 'l1'), 'C': 0.16066596610983414, 'max_iter': 377, 'fit_intercept': False, 'class_weight': None, 'tol': 0.009471105999867386}. Best is trial 33 with value: 0.5808904249053685.\n",
      "[I 2025-05-03 23:10:50,490] Trial 45 finished with value: 0.5800625561590963 and parameters: {'solver_penalty': ('lbfgs', None), 'C': 0.0821912333023201, 'max_iter': 434, 'fit_intercept': True, 'class_weight': None, 'tol': 0.0080997986758664}. Best is trial 33 with value: 0.5808904249053685.\n",
      "[I 2025-05-03 23:10:50,829] Trial 46 finished with value: 0.5808904202197918 and parameters: {'solver_penalty': ('lbfgs', None), 'C': 0.44241536744646714, 'max_iter': 416, 'fit_intercept': False, 'class_weight': 'balanced', 'tol': 0.009994514402470017}. Best is trial 33 with value: 0.5808904249053685.\n",
      "[I 2025-05-03 23:10:51,246] Trial 47 finished with value: 0.5786527108163734 and parameters: {'solver_penalty': ('liblinear', 'l2'), 'C': 0.40652095929250315, 'max_iter': 424, 'fit_intercept': False, 'class_weight': 'balanced', 'tol': 0.00875277884015367}. Best is trial 33 with value: 0.5808904249053685.\n",
      "[I 2025-05-03 23:10:51,581] Trial 48 finished with value: 0.5790890507313456 and parameters: {'solver_penalty': ('lbfgs', 'l2'), 'C': 0.00038964733326143594, 'max_iter': 352, 'fit_intercept': False, 'class_weight': 'balanced', 'tol': 0.009964735661841518}. Best is trial 33 with value: 0.5808904249053685.\n",
      "[I 2025-05-03 23:10:52,414] Trial 49 finished with value: 0.5788061263947017 and parameters: {'solver_penalty': ('saga', None), 'C': 4.33653472452877, 'max_iter': 452, 'fit_intercept': True, 'class_weight': 'balanced', 'tol': 0.0054896311529840725}. Best is trial 33 with value: 0.5808904249053685.\n"
     ]
    }
   ],
   "source": [
    "# Create a study and optimize\n",
    "study = optuna.create_study(direction=\"maximize\")\n",
    "study.optimize(objective, n_trials=50)"
   ]
  },
  {
   "cell_type": "code",
   "execution_count": 52,
   "id": "23ce46fa",
   "metadata": {},
   "outputs": [
    {
     "name": "stdout",
     "output_type": "stream",
     "text": [
      "Best Hyperparameters: {'solver_penalty': ('lbfgs', None), 'C': 0.0019767865000970934, 'max_iter': 385, 'fit_intercept': False, 'class_weight': None, 'tol': 0.009889747503964376}\n"
     ]
    }
   ],
   "source": [
    "# Print the best hyperparameters\n",
    "print(\"Best Hyperparameters:\", study.best_params)"
   ]
  },
  {
   "cell_type": "markdown",
   "id": "604b0716",
   "metadata": {},
   "source": [
    "* Logistic Regression Can't help, have to look for better classifiers."
   ]
  },
  {
   "cell_type": "code",
   "execution_count": null,
   "id": "6a59d71a",
   "metadata": {},
   "outputs": [],
   "source": []
  }
 ],
 "metadata": {
  "kernelspec": {
   "display_name": "ml_env",
   "language": "python",
   "name": "python3"
  },
  "language_info": {
   "codemirror_mode": {
    "name": "ipython",
    "version": 3
   },
   "file_extension": ".py",
   "mimetype": "text/x-python",
   "name": "python",
   "nbconvert_exporter": "python",
   "pygments_lexer": "ipython3",
   "version": "3.13.2"
  }
 },
 "nbformat": 4,
 "nbformat_minor": 5
}
